{
 "cells": [
  {
   "cell_type": "code",
   "execution_count": 1,
   "metadata": {},
   "outputs": [],
   "source": [
    "# Importing the necessary libraries\n",
    "\n",
    "import pandas as pd\n",
    "import numpy as np\n",
    "import matplotlib.pyplot as plt\n",
    "import seaborn as sns\n",
    "%matplotlib inline\n",
    "\n",
    "from sklearn import model_selection\n",
    "from sklearn import preprocessing\n",
    "from sklearn.model_selection import train_test_split, cross_validate\n",
    "from sklearn.linear_model import LinearRegression, Lasso, Ridge\n",
    "from sklearn.ensemble import RandomForestRegressor\n",
    "from sklearn.ensemble import GradientBoostingRegressor\n",
    "from sklearn.metrics import mean_absolute_error, mean_squared_error, r2_score\n",
    "from sklearn import ensemble"
   ]
  },
  {
   "cell_type": "code",
   "execution_count": 2,
   "metadata": {},
   "outputs": [
    {
     "data": {
      "text/html": [
       "<div>\n",
       "<style scoped>\n",
       "    .dataframe tbody tr th:only-of-type {\n",
       "        vertical-align: middle;\n",
       "    }\n",
       "\n",
       "    .dataframe tbody tr th {\n",
       "        vertical-align: top;\n",
       "    }\n",
       "\n",
       "    .dataframe thead th {\n",
       "        text-align: right;\n",
       "    }\n",
       "</style>\n",
       "<table border=\"1\" class=\"dataframe\">\n",
       "  <thead>\n",
       "    <tr style=\"text-align: right;\">\n",
       "      <th></th>\n",
       "      <th>rent</th>\n",
       "      <th>location</th>\n",
       "      <th>bedroom</th>\n",
       "      <th>bathroom</th>\n",
       "      <th>toilet</th>\n",
       "      <th>parking</th>\n",
       "    </tr>\n",
       "  </thead>\n",
       "  <tbody>\n",
       "    <tr>\n",
       "      <th>0</th>\n",
       "      <td>4500000</td>\n",
       "      <td>Conservation Road Lekki Lagos</td>\n",
       "      <td>4.0</td>\n",
       "      <td>4.0</td>\n",
       "      <td>5.0</td>\n",
       "      <td>3.0</td>\n",
       "    </tr>\n",
       "    <tr>\n",
       "      <th>1</th>\n",
       "      <td>5500000</td>\n",
       "      <td>Osapa London Osapa Lekki Lagos</td>\n",
       "      <td>4.0</td>\n",
       "      <td>4.0</td>\n",
       "      <td>5.0</td>\n",
       "      <td>3.0</td>\n",
       "    </tr>\n",
       "    <tr>\n",
       "      <th>2</th>\n",
       "      <td>5500000</td>\n",
       "      <td>Bogije Bogije Ibeju Lekki Lagos</td>\n",
       "      <td>3.0</td>\n",
       "      <td>3.0</td>\n",
       "      <td>4.0</td>\n",
       "      <td>NaN</td>\n",
       "    </tr>\n",
       "    <tr>\n",
       "      <th>3</th>\n",
       "      <td>5500000</td>\n",
       "      <td>Beechwood Estate Bogije Ibeju Lekki Lagos</td>\n",
       "      <td>4.0</td>\n",
       "      <td>4.0</td>\n",
       "      <td>5.0</td>\n",
       "      <td>NaN</td>\n",
       "    </tr>\n",
       "    <tr>\n",
       "      <th>4</th>\n",
       "      <td>5500000</td>\n",
       "      <td>Eleko Eleko Ibeju Lekki Lagos</td>\n",
       "      <td>4.0</td>\n",
       "      <td>4.0</td>\n",
       "      <td>5.0</td>\n",
       "      <td>NaN</td>\n",
       "    </tr>\n",
       "  </tbody>\n",
       "</table>\n",
       "</div>"
      ],
      "text/plain": [
       "      rent                                    location  bedroom  bathroom  \\\n",
       "0  4500000               Conservation Road Lekki Lagos      4.0       4.0   \n",
       "1  5500000              Osapa London Osapa Lekki Lagos      4.0       4.0   \n",
       "2  5500000             Bogije Bogije Ibeju Lekki Lagos      3.0       3.0   \n",
       "3  5500000   Beechwood Estate Bogije Ibeju Lekki Lagos      4.0       4.0   \n",
       "4  5500000               Eleko Eleko Ibeju Lekki Lagos      4.0       4.0   \n",
       "\n",
       "   toilet  parking  \n",
       "0     5.0      3.0  \n",
       "1     5.0      3.0  \n",
       "2     4.0      NaN  \n",
       "3     5.0      NaN  \n",
       "4     5.0      NaN  "
      ]
     },
     "execution_count": 2,
     "metadata": {},
     "output_type": "execute_result"
    }
   ],
   "source": [
    "# Importing the rent dataset\n",
    "\n",
    "dataset_df = pd.read_csv('lagosrent.csv')\n",
    "\n",
    "dataset_df.head()"
   ]
  },
  {
   "cell_type": "markdown",
   "metadata": {},
   "source": [
    "## Exploratory Data Analysis"
   ]
  },
  {
   "cell_type": "code",
   "execution_count": 3,
   "metadata": {
    "scrolled": false
   },
   "outputs": [
    {
     "name": "stdout",
     "output_type": "stream",
     "text": [
      "<class 'pandas.core.frame.DataFrame'>\n",
      "RangeIndex: 16800 entries, 0 to 16799\n",
      "Data columns (total 6 columns):\n",
      " #   Column    Non-Null Count  Dtype  \n",
      "---  ------    --------------  -----  \n",
      " 0   rent      16800 non-null  int64  \n",
      " 1   location  16800 non-null  object \n",
      " 2   bedroom   15111 non-null  float64\n",
      " 3   bathroom  15111 non-null  float64\n",
      " 4   toilet    15011 non-null  float64\n",
      " 5   parking   8434 non-null   float64\n",
      "dtypes: float64(4), int64(1), object(1)\n",
      "memory usage: 787.6+ KB\n"
     ]
    }
   ],
   "source": [
    "# Viewing the summary of the dataset\n",
    "\n",
    "dataset_df.info()"
   ]
  },
  {
   "cell_type": "markdown",
   "metadata": {},
   "source": [
    "The dataset has null values"
   ]
  },
  {
   "cell_type": "code",
   "execution_count": 4,
   "metadata": {},
   "outputs": [
    {
     "data": {
      "text/html": [
       "<div>\n",
       "<style scoped>\n",
       "    .dataframe tbody tr th:only-of-type {\n",
       "        vertical-align: middle;\n",
       "    }\n",
       "\n",
       "    .dataframe tbody tr th {\n",
       "        vertical-align: top;\n",
       "    }\n",
       "\n",
       "    .dataframe thead th {\n",
       "        text-align: right;\n",
       "    }\n",
       "</style>\n",
       "<table border=\"1\" class=\"dataframe\">\n",
       "  <thead>\n",
       "    <tr style=\"text-align: right;\">\n",
       "      <th></th>\n",
       "      <th>rent</th>\n",
       "      <th>bedroom</th>\n",
       "      <th>bathroom</th>\n",
       "      <th>toilet</th>\n",
       "      <th>parking</th>\n",
       "    </tr>\n",
       "  </thead>\n",
       "  <tbody>\n",
       "    <tr>\n",
       "      <th>count</th>\n",
       "      <td>1.680000e+04</td>\n",
       "      <td>15111.000000</td>\n",
       "      <td>15111.000000</td>\n",
       "      <td>15011.000000</td>\n",
       "      <td>8434.000000</td>\n",
       "    </tr>\n",
       "    <tr>\n",
       "      <th>mean</th>\n",
       "      <td>7.335518e+06</td>\n",
       "      <td>3.707101</td>\n",
       "      <td>4.639733</td>\n",
       "      <td>4.752848</td>\n",
       "      <td>4.760849</td>\n",
       "    </tr>\n",
       "    <tr>\n",
       "      <th>std</th>\n",
       "      <td>1.239409e+07</td>\n",
       "      <td>2.899367</td>\n",
       "      <td>9.858156</td>\n",
       "      <td>3.869861</td>\n",
       "      <td>5.735366</td>\n",
       "    </tr>\n",
       "    <tr>\n",
       "      <th>min</th>\n",
       "      <td>1.200000e+03</td>\n",
       "      <td>1.000000</td>\n",
       "      <td>1.000000</td>\n",
       "      <td>1.000000</td>\n",
       "      <td>1.000000</td>\n",
       "    </tr>\n",
       "    <tr>\n",
       "      <th>25%</th>\n",
       "      <td>1.200000e+06</td>\n",
       "      <td>2.000000</td>\n",
       "      <td>2.000000</td>\n",
       "      <td>3.000000</td>\n",
       "      <td>2.000000</td>\n",
       "    </tr>\n",
       "    <tr>\n",
       "      <th>50%</th>\n",
       "      <td>5.500000e+06</td>\n",
       "      <td>4.000000</td>\n",
       "      <td>4.000000</td>\n",
       "      <td>4.000000</td>\n",
       "      <td>2.000000</td>\n",
       "    </tr>\n",
       "    <tr>\n",
       "      <th>75%</th>\n",
       "      <td>5.500000e+06</td>\n",
       "      <td>4.000000</td>\n",
       "      <td>4.000000</td>\n",
       "      <td>5.000000</td>\n",
       "      <td>3.000000</td>\n",
       "    </tr>\n",
       "    <tr>\n",
       "      <th>max</th>\n",
       "      <td>6.000000e+07</td>\n",
       "      <td>15.000000</td>\n",
       "      <td>120.000000</td>\n",
       "      <td>20.000000</td>\n",
       "      <td>20.000000</td>\n",
       "    </tr>\n",
       "  </tbody>\n",
       "</table>\n",
       "</div>"
      ],
      "text/plain": [
       "               rent       bedroom      bathroom        toilet      parking\n",
       "count  1.680000e+04  15111.000000  15111.000000  15011.000000  8434.000000\n",
       "mean   7.335518e+06      3.707101      4.639733      4.752848     4.760849\n",
       "std    1.239409e+07      2.899367      9.858156      3.869861     5.735366\n",
       "min    1.200000e+03      1.000000      1.000000      1.000000     1.000000\n",
       "25%    1.200000e+06      2.000000      2.000000      3.000000     2.000000\n",
       "50%    5.500000e+06      4.000000      4.000000      4.000000     2.000000\n",
       "75%    5.500000e+06      4.000000      4.000000      5.000000     3.000000\n",
       "max    6.000000e+07     15.000000    120.000000     20.000000    20.000000"
      ]
     },
     "execution_count": 4,
     "metadata": {},
     "output_type": "execute_result"
    }
   ],
   "source": [
    "dataset_df.describe()"
   ]
  },
  {
   "cell_type": "code",
   "execution_count": 5,
   "metadata": {},
   "outputs": [
    {
     "data": {
      "text/plain": [
       "rent        19\n",
       "location    27\n",
       "bedroom      6\n",
       "bathroom     7\n",
       "toilet       7\n",
       "parking      5\n",
       "dtype: int64"
      ]
     },
     "execution_count": 5,
     "metadata": {},
     "output_type": "execute_result"
    }
   ],
   "source": [
    "# Viewing the number of unique values in the imported dataset\n",
    "\n",
    "dataset_df.nunique()"
   ]
  },
  {
   "cell_type": "code",
   "execution_count": 6,
   "metadata": {},
   "outputs": [
    {
     "data": {
      "text/plain": [
       "Text(0, 0.5, 'Value Counts')"
      ]
     },
     "execution_count": 6,
     "metadata": {},
     "output_type": "execute_result"
    },
    {
     "data": {
      "image/png": "[encoded data removed]",
      "text/plain": [
       "<Figure size 864x360 with 1 Axes>"
      ]
     },
     "metadata": {
      "needs_background": "light"
     },
     "output_type": "display_data"
    }
   ],
   "source": [
    "dataset_df['rent'].value_counts().plot(kind='bar', figsize = (12,5))\n",
    "plt.title('Value Counts of Rent')\n",
    "plt.xlabel('Rent')\n",
    "plt.ylabel('Value Counts')"
   ]
  },
  {
   "cell_type": "markdown",
   "metadata": {},
   "source": [
    "From the above plot, we can see a rent of 1200, which is impossible. The rows containing 'rent' = 1200 will be handled later."
   ]
  },
  {
   "cell_type": "code",
   "execution_count": 7,
   "metadata": {},
   "outputs": [
    {
     "data": {
      "text/plain": [
       "Text(0, 0.5, 'Value Counts')"
      ]
     },
     "execution_count": 7,
     "metadata": {},
     "output_type": "execute_result"
    },
    {
     "data": {
      "image/png": "[encoded data removed]",
      "text/plain": [
       "<Figure size 864x360 with 1 Axes>"
      ]
     },
     "metadata": {
      "needs_background": "light"
     },
     "output_type": "display_data"
    }
   ],
   "source": [
    "dataset_df['location'].value_counts().plot(kind='bar', figsize = (12,5))\n",
    "plt.title('Value Counts of Location')\n",
    "plt.xlabel('Location')\n",
    "plt.ylabel('Value Counts')"
   ]
  },
  {
   "cell_type": "code",
   "execution_count": 8,
   "metadata": {},
   "outputs": [
    {
     "data": {
      "text/plain": [
       "Text(0, 0.5, 'Value Counts')"
      ]
     },
     "execution_count": 8,
     "metadata": {},
     "output_type": "execute_result"
    },
    {
     "data": {
      "image/png": "[encoded data removed]",
      "text/plain": [
       "<Figure size 864x360 with 1 Axes>"
      ]
     },
     "metadata": {
      "needs_background": "light"
     },
     "output_type": "display_data"
    }
   ],
   "source": [
    "dataset_df['bedroom'].value_counts().plot(kind='bar', figsize = (12,5))\n",
    "plt.title('Value Counts of bedroom')\n",
    "plt.xlabel('Bedroom')\n",
    "plt.ylabel('Value Counts')"
   ]
  },
  {
   "cell_type": "code",
   "execution_count": 9,
   "metadata": {},
   "outputs": [
    {
     "data": {
      "text/plain": [
       "Text(0, 0.5, 'Value Counts')"
      ]
     },
     "execution_count": 9,
     "metadata": {},
     "output_type": "execute_result"
    },
    {
     "data": {
      "image/png": "[encoded data removed]",
      "text/plain": [
       "<Figure size 864x360 with 1 Axes>"
      ]
     },
     "metadata": {
      "needs_background": "light"
     },
     "output_type": "display_data"
    }
   ],
   "source": [
    "dataset_df['bathroom'].value_counts().plot(kind='bar', figsize = (12,5))\n",
    "plt.title('Value Counts of Bathrooms')\n",
    "plt.xlabel('Bathroom')\n",
    "plt.ylabel('Value Counts')"
   ]
  },
  {
   "cell_type": "markdown",
   "metadata": {},
   "source": [
    "120 bathrooms looks unsual for a residential home. This will be handled later."
   ]
  },
  {
   "cell_type": "code",
   "execution_count": 10,
   "metadata": {},
   "outputs": [
    {
     "data": {
      "text/plain": [
       "Text(0, 0.5, 'Value Counts')"
      ]
     },
     "execution_count": 10,
     "metadata": {},
     "output_type": "execute_result"
    },
    {
     "data": {
      "image/png": "[encoded data removed]",
      "text/plain": [
       "<Figure size 864x360 with 1 Axes>"
      ]
     },
     "metadata": {
      "needs_background": "light"
     },
     "output_type": "display_data"
    }
   ],
   "source": [
    "dataset_df['toilet'].value_counts().plot(kind='bar', figsize = (12,5))\n",
    "plt.title('Value Counts of Toilets')\n",
    "plt.xlabel('Toilet')\n",
    "plt.ylabel('Value Counts')"
   ]
  },
  {
   "cell_type": "code",
   "execution_count": 11,
   "metadata": {},
   "outputs": [
    {
     "data": {
      "text/plain": [
       "Text(0, 0.5, 'Value Counts')"
      ]
     },
     "execution_count": 11,
     "metadata": {},
     "output_type": "execute_result"
    },
    {
     "data": {
      "image/png": "[encoded data removed]",
      "text/plain": [
       "<Figure size 864x360 with 1 Axes>"
      ]
     },
     "metadata": {
      "needs_background": "light"
     },
     "output_type": "display_data"
    }
   ],
   "source": [
    "dataset_df['parking'].value_counts().plot(kind='bar', figsize = (12,5))\n",
    "plt.title('Value Counts of Parking Spaces')\n",
    "plt.xlabel('Parking Spaces')\n",
    "plt.ylabel('Value Counts')"
   ]
  },
  {
   "cell_type": "code",
   "execution_count": 12,
   "metadata": {},
   "outputs": [
    {
     "data": {
      "text/plain": [
       "rent           0\n",
       "location       0\n",
       "bedroom     1689\n",
       "bathroom    1689\n",
       "toilet      1789\n",
       "parking     8366\n",
       "dtype: int64"
      ]
     },
     "execution_count": 12,
     "metadata": {},
     "output_type": "execute_result"
    }
   ],
   "source": [
    "# Checking for null values in the dataset\n",
    "\n",
    "dataset_df.isnull().sum()"
   ]
  },
  {
   "cell_type": "code",
   "execution_count": 13,
   "metadata": {},
   "outputs": [
    {
     "name": "stdout",
     "output_type": "stream",
     "text": [
      "Percentage of null bedrooms: 10%\n",
      "Percentage of null bathrooms: 10%\n",
      "Percentage of null toilets: 11%\n",
      "Percentage of null parking spaces: 50%\n"
     ]
    }
   ],
   "source": [
    "null_bedroom = dataset_df[\"bedroom\"].isnull().sum()\n",
    "\n",
    "null_bathroom = dataset_df[\"bathroom\"].isnull().sum()\n",
    "\n",
    "null_toilet = dataset_df[\"toilet\"].isnull().sum()\n",
    "\n",
    "null_parking = dataset_df[\"parking\"].isnull().sum()\n",
    "\n",
    "num_entries = len(dataset_df)\n",
    "\n",
    "\n",
    "print(f\"Percentage of null bedrooms: {round(null_bedroom/num_entries*100)}%\")\n",
    "print(f\"Percentage of null bathrooms: {round(null_bathroom/num_entries*100)}%\")\n",
    "print(f\"Percentage of null toilets: {round(null_toilet/num_entries*100)}%\")\n",
    "print(f\"Percentage of null parking spaces: {round(null_parking/num_entries*100)}%\")"
   ]
  },
  {
   "cell_type": "code",
   "execution_count": 14,
   "metadata": {},
   "outputs": [
    {
     "data": {
      "text/html": [
       "<div>\n",
       "<style scoped>\n",
       "    .dataframe tbody tr th:only-of-type {\n",
       "        vertical-align: middle;\n",
       "    }\n",
       "\n",
       "    .dataframe tbody tr th {\n",
       "        vertical-align: top;\n",
       "    }\n",
       "\n",
       "    .dataframe thead th {\n",
       "        text-align: right;\n",
       "    }\n",
       "</style>\n",
       "<table border=\"1\" class=\"dataframe\">\n",
       "  <thead>\n",
       "    <tr style=\"text-align: right;\">\n",
       "      <th></th>\n",
       "      <th>rent</th>\n",
       "      <th>bedroom</th>\n",
       "      <th>bathroom</th>\n",
       "      <th>toilet</th>\n",
       "      <th>parking</th>\n",
       "    </tr>\n",
       "    <tr>\n",
       "      <th>location</th>\n",
       "      <th></th>\n",
       "      <th></th>\n",
       "      <th></th>\n",
       "      <th></th>\n",
       "      <th></th>\n",
       "    </tr>\n",
       "  </thead>\n",
       "  <tbody>\n",
       "    <tr>\n",
       "      <th>21 Ogunnusi Road Ogba Ikeja Lagos</th>\n",
       "      <td>100</td>\n",
       "      <td>100</td>\n",
       "      <td>100</td>\n",
       "      <td>0</td>\n",
       "      <td>0</td>\n",
       "    </tr>\n",
       "    <tr>\n",
       "      <th>Agungi Lekki Lagos</th>\n",
       "      <td>800</td>\n",
       "      <td>800</td>\n",
       "      <td>800</td>\n",
       "      <td>800</td>\n",
       "      <td>800</td>\n",
       "    </tr>\n",
       "    <tr>\n",
       "      <th>Alagomeji Yaba Lagos. Alagomeji Yaba Lagos</th>\n",
       "      <td>800</td>\n",
       "      <td>800</td>\n",
       "      <td>800</td>\n",
       "      <td>800</td>\n",
       "      <td>0</td>\n",
       "    </tr>\n",
       "    <tr>\n",
       "      <th>Bakare Estate Agungi Lekki Lagos</th>\n",
       "      <td>84</td>\n",
       "      <td>84</td>\n",
       "      <td>84</td>\n",
       "      <td>84</td>\n",
       "      <td>0</td>\n",
       "    </tr>\n",
       "    <tr>\n",
       "      <th>Banana Island Ikoyi Lagos</th>\n",
       "      <td>800</td>\n",
       "      <td>0</td>\n",
       "      <td>0</td>\n",
       "      <td>0</td>\n",
       "      <td>0</td>\n",
       "    </tr>\n",
       "    <tr>\n",
       "      <th>Banana Island Ikoyi Lagos Ikoyi Lagos</th>\n",
       "      <td>800</td>\n",
       "      <td>800</td>\n",
       "      <td>800</td>\n",
       "      <td>800</td>\n",
       "      <td>800</td>\n",
       "    </tr>\n",
       "    <tr>\n",
       "      <th>Beechwood Estate Bogije Ibeju Lekki Lagos</th>\n",
       "      <td>800</td>\n",
       "      <td>800</td>\n",
       "      <td>800</td>\n",
       "      <td>800</td>\n",
       "      <td>0</td>\n",
       "    </tr>\n",
       "    <tr>\n",
       "      <th>Bogije Bogije Ibeju Lekki Lagos</th>\n",
       "      <td>800</td>\n",
       "      <td>800</td>\n",
       "      <td>800</td>\n",
       "      <td>800</td>\n",
       "      <td>0</td>\n",
       "    </tr>\n",
       "    <tr>\n",
       "      <th>Conservation Road Lekki Lagos</th>\n",
       "      <td>85</td>\n",
       "      <td>85</td>\n",
       "      <td>85</td>\n",
       "      <td>85</td>\n",
       "      <td>85</td>\n",
       "    </tr>\n",
       "    <tr>\n",
       "      <th>Eleko Eleko Ibeju Lekki Lagos</th>\n",
       "      <td>800</td>\n",
       "      <td>800</td>\n",
       "      <td>800</td>\n",
       "      <td>800</td>\n",
       "      <td>0</td>\n",
       "    </tr>\n",
       "    <tr>\n",
       "      <th>Ikate Lekki Lagos</th>\n",
       "      <td>800</td>\n",
       "      <td>800</td>\n",
       "      <td>800</td>\n",
       "      <td>800</td>\n",
       "      <td>800</td>\n",
       "    </tr>\n",
       "    <tr>\n",
       "      <th>Ikotun Lagos</th>\n",
       "      <td>89</td>\n",
       "      <td>0</td>\n",
       "      <td>0</td>\n",
       "      <td>0</td>\n",
       "      <td>0</td>\n",
       "    </tr>\n",
       "    <tr>\n",
       "      <th>In A Well Secured Mini Court Ikoyi Lagos</th>\n",
       "      <td>800</td>\n",
       "      <td>800</td>\n",
       "      <td>800</td>\n",
       "      <td>800</td>\n",
       "      <td>800</td>\n",
       "    </tr>\n",
       "    <tr>\n",
       "      <th>Iran-la Through Alasia Opposite Lbs Alasia Ajah Lagos</th>\n",
       "      <td>800</td>\n",
       "      <td>800</td>\n",
       "      <td>800</td>\n",
       "      <td>800</td>\n",
       "      <td>800</td>\n",
       "    </tr>\n",
       "    <tr>\n",
       "      <th>Kilo Surulere Lagos</th>\n",
       "      <td>800</td>\n",
       "      <td>800</td>\n",
       "      <td>800</td>\n",
       "      <td>800</td>\n",
       "      <td>0</td>\n",
       "    </tr>\n",
       "    <tr>\n",
       "      <th>Ladipo Bateye Street Ikeja GRA Ikeja Lagos</th>\n",
       "      <td>93</td>\n",
       "      <td>93</td>\n",
       "      <td>93</td>\n",
       "      <td>93</td>\n",
       "      <td>0</td>\n",
       "    </tr>\n",
       "    <tr>\n",
       "      <th>Lekki Lagos Lekki Lagos</th>\n",
       "      <td>800</td>\n",
       "      <td>800</td>\n",
       "      <td>800</td>\n",
       "      <td>800</td>\n",
       "      <td>800</td>\n",
       "    </tr>\n",
       "    <tr>\n",
       "      <th>Lekki Phase 1 Lekki Lagos</th>\n",
       "      <td>1600</td>\n",
       "      <td>800</td>\n",
       "      <td>800</td>\n",
       "      <td>800</td>\n",
       "      <td>0</td>\n",
       "    </tr>\n",
       "    <tr>\n",
       "      <th>Mende Maryland Lagos</th>\n",
       "      <td>800</td>\n",
       "      <td>800</td>\n",
       "      <td>800</td>\n",
       "      <td>800</td>\n",
       "      <td>0</td>\n",
       "    </tr>\n",
       "    <tr>\n",
       "      <th>Near Airportajao Estate Isolo Lagos</th>\n",
       "      <td>800</td>\n",
       "      <td>800</td>\n",
       "      <td>800</td>\n",
       "      <td>800</td>\n",
       "      <td>800</td>\n",
       "    </tr>\n",
       "    <tr>\n",
       "      <th>Off Bishop Oluwole Victoria Island (VI) Lagos</th>\n",
       "      <td>74</td>\n",
       "      <td>74</td>\n",
       "      <td>74</td>\n",
       "      <td>74</td>\n",
       "      <td>74</td>\n",
       "    </tr>\n",
       "    <tr>\n",
       "      <th>Off Bourdillon Road Old Ikoyi Ikoyi Lagos</th>\n",
       "      <td>82</td>\n",
       "      <td>82</td>\n",
       "      <td>82</td>\n",
       "      <td>82</td>\n",
       "      <td>82</td>\n",
       "    </tr>\n",
       "    <tr>\n",
       "      <th>Off Pedro Road Pedro Gbagada Lagos</th>\n",
       "      <td>800</td>\n",
       "      <td>800</td>\n",
       "      <td>800</td>\n",
       "      <td>800</td>\n",
       "      <td>800</td>\n",
       "    </tr>\n",
       "    <tr>\n",
       "      <th>Opp Harmony Estate Ado Ajah Lagos</th>\n",
       "      <td>800</td>\n",
       "      <td>800</td>\n",
       "      <td>800</td>\n",
       "      <td>800</td>\n",
       "      <td>0</td>\n",
       "    </tr>\n",
       "    <tr>\n",
       "      <th>Osapa London Lekki Lagos</th>\n",
       "      <td>893</td>\n",
       "      <td>893</td>\n",
       "      <td>893</td>\n",
       "      <td>893</td>\n",
       "      <td>893</td>\n",
       "    </tr>\n",
       "    <tr>\n",
       "      <th>Osapa London Osapa Lekki Lagos</th>\n",
       "      <td>800</td>\n",
       "      <td>800</td>\n",
       "      <td>800</td>\n",
       "      <td>800</td>\n",
       "      <td>800</td>\n",
       "    </tr>\n",
       "    <tr>\n",
       "      <th>Victoria Island (VI) Lagos</th>\n",
       "      <td>100</td>\n",
       "      <td>100</td>\n",
       "      <td>100</td>\n",
       "      <td>100</td>\n",
       "      <td>100</td>\n",
       "    </tr>\n",
       "  </tbody>\n",
       "</table>\n",
       "</div>"
      ],
      "text/plain": [
       "                                                    rent  bedroom  bathroom  \\\n",
       "location                                                                      \n",
       " 21 Ogunnusi Road Ogba Ikeja Lagos                   100      100       100   \n",
       " Agungi Lekki Lagos                                  800      800       800   \n",
       " Alagomeji Yaba Lagos. Alagomeji Yaba Lagos          800      800       800   \n",
       " Bakare Estate Agungi Lekki Lagos                     84       84        84   \n",
       " Banana Island Ikoyi Lagos                           800        0         0   \n",
       " Banana Island Ikoyi Lagos Ikoyi Lagos               800      800       800   \n",
       " Beechwood Estate Bogije Ibeju Lekki Lagos           800      800       800   \n",
       " Bogije Bogije Ibeju Lekki Lagos                     800      800       800   \n",
       " Conservation Road Lekki Lagos                        85       85        85   \n",
       " Eleko Eleko Ibeju Lekki Lagos                       800      800       800   \n",
       " Ikate Lekki Lagos                                   800      800       800   \n",
       " Ikotun Lagos                                         89        0         0   \n",
       " In A Well Secured Mini Court Ikoyi Lagos            800      800       800   \n",
       " Iran-la Through Alasia Opposite Lbs Alasia Aja...   800      800       800   \n",
       " Kilo Surulere Lagos                                 800      800       800   \n",
       " Ladipo Bateye Street Ikeja GRA Ikeja Lagos           93       93        93   \n",
       " Lekki Lagos Lekki Lagos                             800      800       800   \n",
       " Lekki Phase 1 Lekki Lagos                          1600      800       800   \n",
       " Mende Maryland Lagos                                800      800       800   \n",
       " Near Airportajao Estate Isolo Lagos                 800      800       800   \n",
       " Off Bishop Oluwole Victoria Island (VI) Lagos        74       74        74   \n",
       " Off Bourdillon Road Old Ikoyi Ikoyi Lagos            82       82        82   \n",
       " Off Pedro Road Pedro Gbagada Lagos                  800      800       800   \n",
       " Opp Harmony Estate Ado Ajah Lagos                   800      800       800   \n",
       " Osapa London Lekki Lagos                            893      893       893   \n",
       " Osapa London Osapa Lekki Lagos                      800      800       800   \n",
       " Victoria Island (VI) Lagos                          100      100       100   \n",
       "\n",
       "                                                    toilet  parking  \n",
       "location                                                             \n",
       " 21 Ogunnusi Road Ogba Ikeja Lagos                       0        0  \n",
       " Agungi Lekki Lagos                                    800      800  \n",
       " Alagomeji Yaba Lagos. Alagomeji Yaba Lagos            800        0  \n",
       " Bakare Estate Agungi Lekki Lagos                       84        0  \n",
       " Banana Island Ikoyi Lagos                               0        0  \n",
       " Banana Island Ikoyi Lagos Ikoyi Lagos                 800      800  \n",
       " Beechwood Estate Bogije Ibeju Lekki Lagos             800        0  \n",
       " Bogije Bogije Ibeju Lekki Lagos                       800        0  \n",
       " Conservation Road Lekki Lagos                          85       85  \n",
       " Eleko Eleko Ibeju Lekki Lagos                         800        0  \n",
       " Ikate Lekki Lagos                                     800      800  \n",
       " Ikotun Lagos                                            0        0  \n",
       " In A Well Secured Mini Court Ikoyi Lagos              800      800  \n",
       " Iran-la Through Alasia Opposite Lbs Alasia Aja...     800      800  \n",
       " Kilo Surulere Lagos                                   800        0  \n",
       " Ladipo Bateye Street Ikeja GRA Ikeja Lagos             93        0  \n",
       " Lekki Lagos Lekki Lagos                               800      800  \n",
       " Lekki Phase 1 Lekki Lagos                             800        0  \n",
       " Mende Maryland Lagos                                  800        0  \n",
       " Near Airportajao Estate Isolo Lagos                   800      800  \n",
       " Off Bishop Oluwole Victoria Island (VI) Lagos          74       74  \n",
       " Off Bourdillon Road Old Ikoyi Ikoyi Lagos              82       82  \n",
       " Off Pedro Road Pedro Gbagada Lagos                    800      800  \n",
       " Opp Harmony Estate Ado Ajah Lagos                     800        0  \n",
       " Osapa London Lekki Lagos                              893      893  \n",
       " Osapa London Osapa Lekki Lagos                        800      800  \n",
       " Victoria Island (VI) Lagos                            100      100  "
      ]
     },
     "execution_count": 14,
     "metadata": {},
     "output_type": "execute_result"
    }
   ],
   "source": [
    "# Checking the 'location' feature\n",
    "\n",
    "dataset_df.groupby('location').count()"
   ]
  },
  {
   "cell_type": "markdown",
   "metadata": {},
   "source": [
    "'Banana Island Ikoyi Lagos' and 'Ikotun Lagos' have null values all through, and will be dropped"
   ]
  },
  {
   "cell_type": "code",
   "execution_count": 15,
   "metadata": {},
   "outputs": [
    {
     "data": {
      "text/html": [
       "<div>\n",
       "<style scoped>\n",
       "    .dataframe tbody tr th:only-of-type {\n",
       "        vertical-align: middle;\n",
       "    }\n",
       "\n",
       "    .dataframe tbody tr th {\n",
       "        vertical-align: top;\n",
       "    }\n",
       "\n",
       "    .dataframe thead th {\n",
       "        text-align: right;\n",
       "    }\n",
       "</style>\n",
       "<table border=\"1\" class=\"dataframe\">\n",
       "  <thead>\n",
       "    <tr style=\"text-align: right;\">\n",
       "      <th></th>\n",
       "      <th>rent</th>\n",
       "      <th>location</th>\n",
       "      <th>bathroom</th>\n",
       "      <th>toilet</th>\n",
       "      <th>parking</th>\n",
       "    </tr>\n",
       "    <tr>\n",
       "      <th>bedroom</th>\n",
       "      <th></th>\n",
       "      <th></th>\n",
       "      <th></th>\n",
       "      <th></th>\n",
       "      <th></th>\n",
       "    </tr>\n",
       "  </thead>\n",
       "  <tbody>\n",
       "    <tr>\n",
       "      <th>1.0</th>\n",
       "      <td>1684</td>\n",
       "      <td>1684</td>\n",
       "      <td>1684</td>\n",
       "      <td>1684</td>\n",
       "      <td>1600</td>\n",
       "    </tr>\n",
       "    <tr>\n",
       "      <th>2.0</th>\n",
       "      <td>3200</td>\n",
       "      <td>3200</td>\n",
       "      <td>3200</td>\n",
       "      <td>3200</td>\n",
       "      <td>800</td>\n",
       "    </tr>\n",
       "    <tr>\n",
       "      <th>3.0</th>\n",
       "      <td>2667</td>\n",
       "      <td>2667</td>\n",
       "      <td>2667</td>\n",
       "      <td>2667</td>\n",
       "      <td>1867</td>\n",
       "    </tr>\n",
       "    <tr>\n",
       "      <th>4.0</th>\n",
       "      <td>5867</td>\n",
       "      <td>5867</td>\n",
       "      <td>5867</td>\n",
       "      <td>5767</td>\n",
       "      <td>3367</td>\n",
       "    </tr>\n",
       "    <tr>\n",
       "      <th>5.0</th>\n",
       "      <td>893</td>\n",
       "      <td>893</td>\n",
       "      <td>893</td>\n",
       "      <td>893</td>\n",
       "      <td>0</td>\n",
       "    </tr>\n",
       "    <tr>\n",
       "      <th>15.0</th>\n",
       "      <td>800</td>\n",
       "      <td>800</td>\n",
       "      <td>800</td>\n",
       "      <td>800</td>\n",
       "      <td>800</td>\n",
       "    </tr>\n",
       "  </tbody>\n",
       "</table>\n",
       "</div>"
      ],
      "text/plain": [
       "         rent  location  bathroom  toilet  parking\n",
       "bedroom                                           \n",
       "1.0      1684      1684      1684    1684     1600\n",
       "2.0      3200      3200      3200    3200      800\n",
       "3.0      2667      2667      2667    2667     1867\n",
       "4.0      5867      5867      5867    5767     3367\n",
       "5.0       893       893       893     893        0\n",
       "15.0      800       800       800     800      800"
      ]
     },
     "execution_count": 15,
     "metadata": {},
     "output_type": "execute_result"
    }
   ],
   "source": [
    "# Checking the 'bedroom' feature\n",
    "\n",
    "dataset_df.groupby('bedroom').count()"
   ]
  },
  {
   "cell_type": "code",
   "execution_count": 16,
   "metadata": {},
   "outputs": [
    {
     "data": {
      "text/html": [
       "<div>\n",
       "<style scoped>\n",
       "    .dataframe tbody tr th:only-of-type {\n",
       "        vertical-align: middle;\n",
       "    }\n",
       "\n",
       "    .dataframe tbody tr th {\n",
       "        vertical-align: top;\n",
       "    }\n",
       "\n",
       "    .dataframe thead th {\n",
       "        text-align: right;\n",
       "    }\n",
       "</style>\n",
       "<table border=\"1\" class=\"dataframe\">\n",
       "  <thead>\n",
       "    <tr style=\"text-align: right;\">\n",
       "      <th></th>\n",
       "      <th>rent</th>\n",
       "      <th>location</th>\n",
       "      <th>bedroom</th>\n",
       "      <th>bathroom</th>\n",
       "      <th>parking</th>\n",
       "    </tr>\n",
       "    <tr>\n",
       "      <th>toilet</th>\n",
       "      <th></th>\n",
       "      <th></th>\n",
       "      <th></th>\n",
       "      <th></th>\n",
       "      <th></th>\n",
       "    </tr>\n",
       "  </thead>\n",
       "  <tbody>\n",
       "    <tr>\n",
       "      <th>1.0</th>\n",
       "      <td>884</td>\n",
       "      <td>884</td>\n",
       "      <td>884</td>\n",
       "      <td>884</td>\n",
       "      <td>800</td>\n",
       "    </tr>\n",
       "    <tr>\n",
       "      <th>2.0</th>\n",
       "      <td>2400</td>\n",
       "      <td>2400</td>\n",
       "      <td>2400</td>\n",
       "      <td>2400</td>\n",
       "      <td>800</td>\n",
       "    </tr>\n",
       "    <tr>\n",
       "      <th>3.0</th>\n",
       "      <td>1600</td>\n",
       "      <td>1600</td>\n",
       "      <td>1600</td>\n",
       "      <td>1600</td>\n",
       "      <td>800</td>\n",
       "    </tr>\n",
       "    <tr>\n",
       "      <th>4.0</th>\n",
       "      <td>2667</td>\n",
       "      <td>2667</td>\n",
       "      <td>2667</td>\n",
       "      <td>2667</td>\n",
       "      <td>1867</td>\n",
       "    </tr>\n",
       "    <tr>\n",
       "      <th>5.0</th>\n",
       "      <td>5767</td>\n",
       "      <td>5767</td>\n",
       "      <td>5767</td>\n",
       "      <td>5767</td>\n",
       "      <td>3367</td>\n",
       "    </tr>\n",
       "    <tr>\n",
       "      <th>6.0</th>\n",
       "      <td>893</td>\n",
       "      <td>893</td>\n",
       "      <td>893</td>\n",
       "      <td>893</td>\n",
       "      <td>0</td>\n",
       "    </tr>\n",
       "    <tr>\n",
       "      <th>20.0</th>\n",
       "      <td>800</td>\n",
       "      <td>800</td>\n",
       "      <td>800</td>\n",
       "      <td>800</td>\n",
       "      <td>800</td>\n",
       "    </tr>\n",
       "  </tbody>\n",
       "</table>\n",
       "</div>"
      ],
      "text/plain": [
       "        rent  location  bedroom  bathroom  parking\n",
       "toilet                                            \n",
       "1.0      884       884      884       884      800\n",
       "2.0     2400      2400     2400      2400      800\n",
       "3.0     1600      1600     1600      1600      800\n",
       "4.0     2667      2667     2667      2667     1867\n",
       "5.0     5767      5767     5767      5767     3367\n",
       "6.0      893       893      893       893        0\n",
       "20.0     800       800      800       800      800"
      ]
     },
     "execution_count": 16,
     "metadata": {},
     "output_type": "execute_result"
    }
   ],
   "source": [
    "# Checking the 'toilet' feature\n",
    "\n",
    "dataset_df.groupby('toilet').count()"
   ]
  },
  {
   "cell_type": "code",
   "execution_count": 17,
   "metadata": {},
   "outputs": [
    {
     "data": {
      "text/html": [
       "<div>\n",
       "<style scoped>\n",
       "    .dataframe tbody tr th:only-of-type {\n",
       "        vertical-align: middle;\n",
       "    }\n",
       "\n",
       "    .dataframe tbody tr th {\n",
       "        vertical-align: top;\n",
       "    }\n",
       "\n",
       "    .dataframe thead th {\n",
       "        text-align: right;\n",
       "    }\n",
       "</style>\n",
       "<table border=\"1\" class=\"dataframe\">\n",
       "  <thead>\n",
       "    <tr style=\"text-align: right;\">\n",
       "      <th></th>\n",
       "      <th>rent</th>\n",
       "      <th>location</th>\n",
       "      <th>bedroom</th>\n",
       "      <th>toilet</th>\n",
       "      <th>parking</th>\n",
       "    </tr>\n",
       "    <tr>\n",
       "      <th>bathroom</th>\n",
       "      <th></th>\n",
       "      <th></th>\n",
       "      <th></th>\n",
       "      <th></th>\n",
       "      <th></th>\n",
       "    </tr>\n",
       "  </thead>\n",
       "  <tbody>\n",
       "    <tr>\n",
       "      <th>1.0</th>\n",
       "      <td>1684</td>\n",
       "      <td>1684</td>\n",
       "      <td>1684</td>\n",
       "      <td>1684</td>\n",
       "      <td>1600</td>\n",
       "    </tr>\n",
       "    <tr>\n",
       "      <th>2.0</th>\n",
       "      <td>3200</td>\n",
       "      <td>3200</td>\n",
       "      <td>3200</td>\n",
       "      <td>3200</td>\n",
       "      <td>800</td>\n",
       "    </tr>\n",
       "    <tr>\n",
       "      <th>3.0</th>\n",
       "      <td>1774</td>\n",
       "      <td>1774</td>\n",
       "      <td>1774</td>\n",
       "      <td>1774</td>\n",
       "      <td>974</td>\n",
       "    </tr>\n",
       "    <tr>\n",
       "      <th>4.0</th>\n",
       "      <td>5060</td>\n",
       "      <td>5060</td>\n",
       "      <td>5060</td>\n",
       "      <td>5060</td>\n",
       "      <td>3460</td>\n",
       "    </tr>\n",
       "    <tr>\n",
       "      <th>5.0</th>\n",
       "      <td>2493</td>\n",
       "      <td>2493</td>\n",
       "      <td>2493</td>\n",
       "      <td>2493</td>\n",
       "      <td>800</td>\n",
       "    </tr>\n",
       "    <tr>\n",
       "      <th>15.0</th>\n",
       "      <td>800</td>\n",
       "      <td>800</td>\n",
       "      <td>800</td>\n",
       "      <td>800</td>\n",
       "      <td>800</td>\n",
       "    </tr>\n",
       "    <tr>\n",
       "      <th>120.0</th>\n",
       "      <td>100</td>\n",
       "      <td>100</td>\n",
       "      <td>100</td>\n",
       "      <td>0</td>\n",
       "      <td>0</td>\n",
       "    </tr>\n",
       "  </tbody>\n",
       "</table>\n",
       "</div>"
      ],
      "text/plain": [
       "          rent  location  bedroom  toilet  parking\n",
       "bathroom                                          \n",
       "1.0       1684      1684     1684    1684     1600\n",
       "2.0       3200      3200     3200    3200      800\n",
       "3.0       1774      1774     1774    1774      974\n",
       "4.0       5060      5060     5060    5060     3460\n",
       "5.0       2493      2493     2493    2493      800\n",
       "15.0       800       800      800     800      800\n",
       "120.0      100       100      100       0        0"
      ]
     },
     "execution_count": 17,
     "metadata": {},
     "output_type": "execute_result"
    }
   ],
   "source": [
    "# Checking the 'bathroom' feature\n",
    "\n",
    "dataset_df.groupby('bathroom').count()"
   ]
  },
  {
   "cell_type": "code",
   "execution_count": 18,
   "metadata": {},
   "outputs": [
    {
     "data": {
      "text/html": [
       "<div>\n",
       "<style scoped>\n",
       "    .dataframe tbody tr th:only-of-type {\n",
       "        vertical-align: middle;\n",
       "    }\n",
       "\n",
       "    .dataframe tbody tr th {\n",
       "        vertical-align: top;\n",
       "    }\n",
       "\n",
       "    .dataframe thead th {\n",
       "        text-align: right;\n",
       "    }\n",
       "</style>\n",
       "<table border=\"1\" class=\"dataframe\">\n",
       "  <thead>\n",
       "    <tr style=\"text-align: right;\">\n",
       "      <th></th>\n",
       "      <th>rent</th>\n",
       "      <th>location</th>\n",
       "      <th>bedroom</th>\n",
       "      <th>bathroom</th>\n",
       "      <th>toilet</th>\n",
       "    </tr>\n",
       "    <tr>\n",
       "      <th>parking</th>\n",
       "      <th></th>\n",
       "      <th></th>\n",
       "      <th></th>\n",
       "      <th></th>\n",
       "      <th></th>\n",
       "    </tr>\n",
       "  </thead>\n",
       "  <tbody>\n",
       "    <tr>\n",
       "      <th>1.0</th>\n",
       "      <td>800</td>\n",
       "      <td>800</td>\n",
       "      <td>800</td>\n",
       "      <td>800</td>\n",
       "      <td>800</td>\n",
       "    </tr>\n",
       "    <tr>\n",
       "      <th>2.0</th>\n",
       "      <td>4349</td>\n",
       "      <td>4349</td>\n",
       "      <td>4349</td>\n",
       "      <td>4349</td>\n",
       "      <td>4349</td>\n",
       "    </tr>\n",
       "    <tr>\n",
       "      <th>3.0</th>\n",
       "      <td>1685</td>\n",
       "      <td>1685</td>\n",
       "      <td>1685</td>\n",
       "      <td>1685</td>\n",
       "      <td>1685</td>\n",
       "    </tr>\n",
       "    <tr>\n",
       "      <th>12.0</th>\n",
       "      <td>800</td>\n",
       "      <td>800</td>\n",
       "      <td>800</td>\n",
       "      <td>800</td>\n",
       "      <td>800</td>\n",
       "    </tr>\n",
       "    <tr>\n",
       "      <th>20.0</th>\n",
       "      <td>800</td>\n",
       "      <td>800</td>\n",
       "      <td>800</td>\n",
       "      <td>800</td>\n",
       "      <td>800</td>\n",
       "    </tr>\n",
       "  </tbody>\n",
       "</table>\n",
       "</div>"
      ],
      "text/plain": [
       "         rent  location  bedroom  bathroom  toilet\n",
       "parking                                           \n",
       "1.0       800       800      800       800     800\n",
       "2.0      4349      4349     4349      4349    4349\n",
       "3.0      1685      1685     1685      1685    1685\n",
       "12.0      800       800      800       800     800\n",
       "20.0      800       800      800       800     800"
      ]
     },
     "execution_count": 18,
     "metadata": {},
     "output_type": "execute_result"
    }
   ],
   "source": [
    "# Checking the 'parking' feature\n",
    "\n",
    "parking_grouped = dataset_df.groupby('parking').count()\n",
    "\n",
    "parking_grouped"
   ]
  },
  {
   "cell_type": "code",
   "execution_count": 19,
   "metadata": {},
   "outputs": [
    {
     "data": {
      "image/png": "[encoded data removed]",
      "text/plain": [
       "<Figure size 864x432 with 1 Axes>"
      ]
     },
     "metadata": {
      "needs_background": "light"
     },
     "output_type": "display_data"
    }
   ],
   "source": [
    "# Checking for outliers in the features\n",
    "\n",
    "dataset_df[[\"bedroom\", \"bathroom\", \"toilet\", \"parking\"]].boxplot(figsize = (12,6))\n",
    "\n",
    "plt.show()"
   ]
  },
  {
   "cell_type": "markdown",
   "metadata": {},
   "source": [
    "## Data Cleaning"
   ]
  },
  {
   "cell_type": "code",
   "execution_count": 20,
   "metadata": {},
   "outputs": [],
   "source": [
    "# Making a copy of the original dataset\n",
    "\n",
    "data_df = dataset_df.copy()"
   ]
  },
  {
   "cell_type": "code",
   "execution_count": 21,
   "metadata": {
    "scrolled": true
   },
   "outputs": [
    {
     "data": {
      "text/html": [
       "<div>\n",
       "<style scoped>\n",
       "    .dataframe tbody tr th:only-of-type {\n",
       "        vertical-align: middle;\n",
       "    }\n",
       "\n",
       "    .dataframe tbody tr th {\n",
       "        vertical-align: top;\n",
       "    }\n",
       "\n",
       "    .dataframe thead th {\n",
       "        text-align: right;\n",
       "    }\n",
       "</style>\n",
       "<table border=\"1\" class=\"dataframe\">\n",
       "  <thead>\n",
       "    <tr style=\"text-align: right;\">\n",
       "      <th></th>\n",
       "      <th>rent</th>\n",
       "      <th>bedroom</th>\n",
       "      <th>bathroom</th>\n",
       "      <th>toilet</th>\n",
       "      <th>parking</th>\n",
       "    </tr>\n",
       "    <tr>\n",
       "      <th>location</th>\n",
       "      <th></th>\n",
       "      <th></th>\n",
       "      <th></th>\n",
       "      <th></th>\n",
       "      <th></th>\n",
       "    </tr>\n",
       "  </thead>\n",
       "  <tbody>\n",
       "    <tr>\n",
       "      <th>Conservation Road Lekki Lagos</th>\n",
       "      <td>4500000</td>\n",
       "      <td>4.0</td>\n",
       "      <td>4.0</td>\n",
       "      <td>5.0</td>\n",
       "      <td>3.0</td>\n",
       "    </tr>\n",
       "    <tr>\n",
       "      <th>Osapa London Osapa Lekki Lagos</th>\n",
       "      <td>5500000</td>\n",
       "      <td>4.0</td>\n",
       "      <td>4.0</td>\n",
       "      <td>5.0</td>\n",
       "      <td>3.0</td>\n",
       "    </tr>\n",
       "    <tr>\n",
       "      <th>Bogije Bogije Ibeju Lekki Lagos</th>\n",
       "      <td>5500000</td>\n",
       "      <td>3.0</td>\n",
       "      <td>3.0</td>\n",
       "      <td>4.0</td>\n",
       "      <td>NaN</td>\n",
       "    </tr>\n",
       "    <tr>\n",
       "      <th>Beechwood Estate Bogije Ibeju Lekki Lagos</th>\n",
       "      <td>5500000</td>\n",
       "      <td>4.0</td>\n",
       "      <td>4.0</td>\n",
       "      <td>5.0</td>\n",
       "      <td>NaN</td>\n",
       "    </tr>\n",
       "    <tr>\n",
       "      <th>Eleko Eleko Ibeju Lekki Lagos</th>\n",
       "      <td>5500000</td>\n",
       "      <td>4.0</td>\n",
       "      <td>4.0</td>\n",
       "      <td>5.0</td>\n",
       "      <td>NaN</td>\n",
       "    </tr>\n",
       "  </tbody>\n",
       "</table>\n",
       "</div>"
      ],
      "text/plain": [
       "                                               rent  bedroom  bathroom  \\\n",
       "location                                                                 \n",
       " Conservation Road Lekki Lagos              4500000      4.0       4.0   \n",
       " Osapa London Osapa Lekki Lagos             5500000      4.0       4.0   \n",
       " Bogije Bogije Ibeju Lekki Lagos            5500000      3.0       3.0   \n",
       " Beechwood Estate Bogije Ibeju Lekki Lagos  5500000      4.0       4.0   \n",
       " Eleko Eleko Ibeju Lekki Lagos              5500000      4.0       4.0   \n",
       "\n",
       "                                            toilet  parking  \n",
       "location                                                     \n",
       " Conservation Road Lekki Lagos                 5.0      3.0  \n",
       " Osapa London Osapa Lekki Lagos                5.0      3.0  \n",
       " Bogije Bogije Ibeju Lekki Lagos               4.0      NaN  \n",
       " Beechwood Estate Bogije Ibeju Lekki Lagos     5.0      NaN  \n",
       " Eleko Eleko Ibeju Lekki Lagos                 5.0      NaN  "
      ]
     },
     "execution_count": 21,
     "metadata": {},
     "output_type": "execute_result"
    }
   ],
   "source": [
    "# Dropping the locations 'Banana Island Ikoyi Lagos' and 'Ikotun Lagos' which have null values in all the features\n",
    "\n",
    "data_df = data_df.set_index(\"location\")\n",
    "\n",
    "data_df.drop([\" Banana Island Ikoyi Lagos\", \" Ikotun Lagos\"], inplace=True)\n",
    "\n",
    "data_df.head()"
   ]
  },
  {
   "cell_type": "code",
   "execution_count": 22,
   "metadata": {},
   "outputs": [],
   "source": [
    "# Dropping the rows with 'bathroom' == 120\n",
    "\n",
    "data_df = data_df[data_df.bathroom != 120]"
   ]
  },
  {
   "cell_type": "code",
   "execution_count": 23,
   "metadata": {
    "scrolled": true
   },
   "outputs": [
    {
     "data": {
      "text/html": [
       "<div>\n",
       "<style scoped>\n",
       "    .dataframe tbody tr th:only-of-type {\n",
       "        vertical-align: middle;\n",
       "    }\n",
       "\n",
       "    .dataframe tbody tr th {\n",
       "        vertical-align: top;\n",
       "    }\n",
       "\n",
       "    .dataframe thead th {\n",
       "        text-align: right;\n",
       "    }\n",
       "</style>\n",
       "<table border=\"1\" class=\"dataframe\">\n",
       "  <thead>\n",
       "    <tr style=\"text-align: right;\">\n",
       "      <th></th>\n",
       "      <th>location</th>\n",
       "      <th>rent</th>\n",
       "      <th>bedroom</th>\n",
       "      <th>bathroom</th>\n",
       "      <th>toilet</th>\n",
       "      <th>parking</th>\n",
       "    </tr>\n",
       "  </thead>\n",
       "  <tbody>\n",
       "    <tr>\n",
       "      <th>0</th>\n",
       "      <td>Conservation Road Lekki Lagos</td>\n",
       "      <td>4500000</td>\n",
       "      <td>4.0</td>\n",
       "      <td>4.0</td>\n",
       "      <td>5.0</td>\n",
       "      <td>3.0</td>\n",
       "    </tr>\n",
       "    <tr>\n",
       "      <th>1</th>\n",
       "      <td>Osapa London Osapa Lekki Lagos</td>\n",
       "      <td>5500000</td>\n",
       "      <td>4.0</td>\n",
       "      <td>4.0</td>\n",
       "      <td>5.0</td>\n",
       "      <td>3.0</td>\n",
       "    </tr>\n",
       "    <tr>\n",
       "      <th>2</th>\n",
       "      <td>Bogije Bogije Ibeju Lekki Lagos</td>\n",
       "      <td>5500000</td>\n",
       "      <td>3.0</td>\n",
       "      <td>3.0</td>\n",
       "      <td>4.0</td>\n",
       "      <td>NaN</td>\n",
       "    </tr>\n",
       "    <tr>\n",
       "      <th>3</th>\n",
       "      <td>Beechwood Estate Bogije Ibeju Lekki Lagos</td>\n",
       "      <td>5500000</td>\n",
       "      <td>4.0</td>\n",
       "      <td>4.0</td>\n",
       "      <td>5.0</td>\n",
       "      <td>NaN</td>\n",
       "    </tr>\n",
       "    <tr>\n",
       "      <th>4</th>\n",
       "      <td>Eleko Eleko Ibeju Lekki Lagos</td>\n",
       "      <td>5500000</td>\n",
       "      <td>4.0</td>\n",
       "      <td>4.0</td>\n",
       "      <td>5.0</td>\n",
       "      <td>NaN</td>\n",
       "    </tr>\n",
       "  </tbody>\n",
       "</table>\n",
       "</div>"
      ],
      "text/plain": [
       "                                     location     rent  bedroom  bathroom  \\\n",
       "0               Conservation Road Lekki Lagos  4500000      4.0       4.0   \n",
       "1              Osapa London Osapa Lekki Lagos  5500000      4.0       4.0   \n",
       "2             Bogije Bogije Ibeju Lekki Lagos  5500000      3.0       3.0   \n",
       "3   Beechwood Estate Bogije Ibeju Lekki Lagos  5500000      4.0       4.0   \n",
       "4               Eleko Eleko Ibeju Lekki Lagos  5500000      4.0       4.0   \n",
       "\n",
       "   toilet  parking  \n",
       "0     5.0      3.0  \n",
       "1     5.0      3.0  \n",
       "2     4.0      NaN  \n",
       "3     5.0      NaN  \n",
       "4     5.0      NaN  "
      ]
     },
     "execution_count": 23,
     "metadata": {},
     "output_type": "execute_result"
    }
   ],
   "source": [
    "data_df.reset_index(inplace=True)\n",
    "\n",
    "data_df.head()"
   ]
  },
  {
   "cell_type": "code",
   "execution_count": 24,
   "metadata": {},
   "outputs": [
    {
     "data": {
      "text/plain": [
       "location       0\n",
       "rent           0\n",
       "bedroom      800\n",
       "bathroom     800\n",
       "toilet       800\n",
       "parking     7377\n",
       "dtype: int64"
      ]
     },
     "execution_count": 24,
     "metadata": {},
     "output_type": "execute_result"
    }
   ],
   "source": [
    "# Rechecking the number of null values\n",
    "data_df.isnull().sum()"
   ]
  },
  {
   "cell_type": "code",
   "execution_count": 25,
   "metadata": {},
   "outputs": [
    {
     "data": {
      "text/plain": [
       "(15811, 6)"
      ]
     },
     "execution_count": 25,
     "metadata": {},
     "output_type": "execute_result"
    }
   ],
   "source": [
    "data_df.shape"
   ]
  },
  {
   "cell_type": "code",
   "execution_count": 26,
   "metadata": {},
   "outputs": [
    {
     "name": "stdout",
     "output_type": "stream",
     "text": [
      "[300000, 600000, 800000, 900000, 1200000, 1500000, 4000000, 4500000, 5500000, 6000000, 8500000, 10500000, 12000000, 13000000, 15000000, 16100000, 60000000]\n"
     ]
    }
   ],
   "source": [
    "rent_list = list(data_df.rent.unique())\n",
    "\n",
    "rent_list = sorted(rent_list)\n",
    "\n",
    "print(rent_list)"
   ]
  },
  {
   "cell_type": "code",
   "execution_count": 27,
   "metadata": {},
   "outputs": [],
   "source": [
    "def null_filler(data, col):\n",
    "    \"\"\"\n",
    "    The function takes in a dataset with null values, \n",
    "    performs conditional mode imputation for null values on the specified column, and \n",
    "    returns a cleaned data.\n",
    "    \n",
    "    \"\"\"\n",
    "    \n",
    "    for Rent in rent_list:\n",
    "        if 200000 < Rent <= 600000:\n",
    "            filler = data[data['rent'].apply(lambda x: 200000 < x <= 600000)][col].mode()[0]\n",
    "            df1 = data[data['rent'].apply(lambda x: 200000 < x <= 600000)].fillna({col: filler})\n",
    "            \n",
    "            \n",
    "        elif 600000 < Rent <= 1000000: \n",
    "            filler = data[data['rent'].apply(lambda x: 600000 < x <= 1000000)][col].mode()[0]\n",
    "            df2 = data[data['rent'].apply(lambda x: 600000 < x <= 1000000)].fillna({col: filler})\n",
    "            \n",
    "        elif 1000000 < Rent <= 3000000: \n",
    "            filler = data[data['rent'].apply(lambda x: 1000000 < x <= 3000000)][col].mode()[0]\n",
    "            df3 = data[data['rent'].apply(lambda x: 1000000 < x <= 3000000)].fillna({col: filler})\n",
    "            \n",
    "        elif 3000000 < Rent <= 5000000: \n",
    "            filler = data[data['rent'].apply(lambda x: 3000000 < x <= 5000000)][col].mode()[0]\n",
    "            df4 = data[data['rent'].apply(lambda x: 3000000 < x <= 5000000)].fillna({col: filler})\n",
    "            \n",
    "        elif 5000000 < Rent <= 8000000: \n",
    "            filler = data[data['rent'].apply(lambda x: 5000000 < x <= 8000000)][col].mode()[0]\n",
    "            df5 = data[data['rent'].apply(lambda x: 5000000 < x <= 8000000)].fillna({col: filler})\n",
    "            \n",
    "        elif 8000000 < Rent <= 12000000: \n",
    "            filler = data[data['rent'].apply(lambda x: 8000000 < x <= 12000000)][col].mode()[0]\n",
    "            df6 = data[data['rent'].apply(lambda x: 8000000 < x <= 12000000)].fillna({col: filler})\n",
    "            \n",
    "        else: \n",
    "            filler = data[data['rent'].apply(lambda x: 12000000 < x <= 18000000)][col].mode()[0]\n",
    "            df7 = data[data['rent'].apply(lambda x: 12000000 < x <= 18000000)].fillna({col: filler})\n",
    "    \n",
    "    \n",
    "    data = pd.concat([df1, df2, df3, df4, df5, df6, df7], axis=0).reset_index(drop=True)\n",
    "    \n",
    "    return data"
   ]
  },
  {
   "cell_type": "code",
   "execution_count": 28,
   "metadata": {},
   "outputs": [
    {
     "data": {
      "text/plain": [
       "location       0\n",
       "rent           0\n",
       "bedroom        0\n",
       "bathroom     800\n",
       "toilet       800\n",
       "parking     7377\n",
       "dtype: int64"
      ]
     },
     "execution_count": 28,
     "metadata": {},
     "output_type": "execute_result"
    }
   ],
   "source": [
    "# Filling the null values in the 'bedroom' column\n",
    "\n",
    "non_null_data = null_filler(data_df, 'bedroom')\n",
    "\n",
    "non_null_data.isnull().sum()"
   ]
  },
  {
   "cell_type": "code",
   "execution_count": 29,
   "metadata": {},
   "outputs": [
    {
     "data": {
      "text/plain": [
       "location       0\n",
       "rent           0\n",
       "bedroom        0\n",
       "bathroom       0\n",
       "toilet       800\n",
       "parking     7377\n",
       "dtype: int64"
      ]
     },
     "execution_count": 29,
     "metadata": {},
     "output_type": "execute_result"
    }
   ],
   "source": [
    "# Filling the null values in the 'bathroom' column\n",
    "\n",
    "non_null_data = null_filler(non_null_data, 'bathroom')\n",
    "\n",
    "non_null_data.isnull().sum()"
   ]
  },
  {
   "cell_type": "code",
   "execution_count": 30,
   "metadata": {},
   "outputs": [
    {
     "data": {
      "text/plain": [
       "location       0\n",
       "rent           0\n",
       "bedroom        0\n",
       "bathroom       0\n",
       "toilet         0\n",
       "parking     7377\n",
       "dtype: int64"
      ]
     },
     "execution_count": 30,
     "metadata": {},
     "output_type": "execute_result"
    }
   ],
   "source": [
    "# Filling the null values in the 'toilet' column\n",
    "\n",
    "non_null_data = null_filler(non_null_data, 'toilet')\n",
    "\n",
    "non_null_data.isnull().sum()"
   ]
  },
  {
   "cell_type": "code",
   "execution_count": 31,
   "metadata": {},
   "outputs": [
    {
     "data": {
      "text/plain": [
       "location    0\n",
       "rent        0\n",
       "bedroom     0\n",
       "bathroom    0\n",
       "toilet      0\n",
       "parking     0\n",
       "dtype: int64"
      ]
     },
     "execution_count": 31,
     "metadata": {},
     "output_type": "execute_result"
    }
   ],
   "source": [
    "# Filling the null values in the 'parking' column\n",
    "\n",
    "non_null_data = null_filler(non_null_data, 'parking')\n",
    "\n",
    "non_null_data.isnull().sum()"
   ]
  },
  {
   "cell_type": "code",
   "execution_count": 32,
   "metadata": {},
   "outputs": [
    {
     "data": {
      "text/html": [
       "<div>\n",
       "<style scoped>\n",
       "    .dataframe tbody tr th:only-of-type {\n",
       "        vertical-align: middle;\n",
       "    }\n",
       "\n",
       "    .dataframe tbody tr th {\n",
       "        vertical-align: top;\n",
       "    }\n",
       "\n",
       "    .dataframe thead th {\n",
       "        text-align: right;\n",
       "    }\n",
       "</style>\n",
       "<table border=\"1\" class=\"dataframe\">\n",
       "  <thead>\n",
       "    <tr style=\"text-align: right;\">\n",
       "      <th></th>\n",
       "      <th>location</th>\n",
       "      <th>rent</th>\n",
       "      <th>bedroom</th>\n",
       "      <th>bathroom</th>\n",
       "      <th>toilet</th>\n",
       "      <th>parking</th>\n",
       "    </tr>\n",
       "  </thead>\n",
       "  <tbody>\n",
       "    <tr>\n",
       "      <th>0</th>\n",
       "      <td>Iran-la Through Alasia Opposite Lbs Alasia Aj...</td>\n",
       "      <td>300000</td>\n",
       "      <td>1.0</td>\n",
       "      <td>1.0</td>\n",
       "      <td>1.0</td>\n",
       "      <td>2.0</td>\n",
       "    </tr>\n",
       "    <tr>\n",
       "      <th>1</th>\n",
       "      <td>Opp Harmony Estate Ado Ajah Lagos</td>\n",
       "      <td>600000</td>\n",
       "      <td>2.0</td>\n",
       "      <td>2.0</td>\n",
       "      <td>2.0</td>\n",
       "      <td>2.0</td>\n",
       "    </tr>\n",
       "    <tr>\n",
       "      <th>2</th>\n",
       "      <td>Iran-la Through Alasia Opposite Lbs Alasia Aj...</td>\n",
       "      <td>300000</td>\n",
       "      <td>1.0</td>\n",
       "      <td>1.0</td>\n",
       "      <td>1.0</td>\n",
       "      <td>2.0</td>\n",
       "    </tr>\n",
       "    <tr>\n",
       "      <th>3</th>\n",
       "      <td>Opp Harmony Estate Ado Ajah Lagos</td>\n",
       "      <td>600000</td>\n",
       "      <td>2.0</td>\n",
       "      <td>2.0</td>\n",
       "      <td>2.0</td>\n",
       "      <td>2.0</td>\n",
       "    </tr>\n",
       "    <tr>\n",
       "      <th>4</th>\n",
       "      <td>Iran-la Through Alasia Opposite Lbs Alasia Aj...</td>\n",
       "      <td>300000</td>\n",
       "      <td>1.0</td>\n",
       "      <td>1.0</td>\n",
       "      <td>1.0</td>\n",
       "      <td>2.0</td>\n",
       "    </tr>\n",
       "  </tbody>\n",
       "</table>\n",
       "</div>"
      ],
      "text/plain": [
       "                                            location    rent  bedroom  \\\n",
       "0   Iran-la Through Alasia Opposite Lbs Alasia Aj...  300000      1.0   \n",
       "1                  Opp Harmony Estate Ado Ajah Lagos  600000      2.0   \n",
       "2   Iran-la Through Alasia Opposite Lbs Alasia Aj...  300000      1.0   \n",
       "3                  Opp Harmony Estate Ado Ajah Lagos  600000      2.0   \n",
       "4   Iran-la Through Alasia Opposite Lbs Alasia Aj...  300000      1.0   \n",
       "\n",
       "   bathroom  toilet  parking  \n",
       "0       1.0     1.0      2.0  \n",
       "1       2.0     2.0      2.0  \n",
       "2       1.0     1.0      2.0  \n",
       "3       2.0     2.0      2.0  \n",
       "4       1.0     1.0      2.0  "
      ]
     },
     "execution_count": 32,
     "metadata": {},
     "output_type": "execute_result"
    }
   ],
   "source": [
    "cleaned_data = non_null_data\n",
    "\n",
    "cleaned_data.head()"
   ]
  },
  {
   "cell_type": "code",
   "execution_count": 33,
   "metadata": {},
   "outputs": [
    {
     "data": {
      "text/plain": [
       "(15011, 6)"
      ]
     },
     "execution_count": 33,
     "metadata": {},
     "output_type": "execute_result"
    }
   ],
   "source": [
    "cleaned_data.shape"
   ]
  },
  {
   "cell_type": "code",
   "execution_count": 34,
   "metadata": {},
   "outputs": [
    {
     "data": {
      "text/html": [
       "<div>\n",
       "<style scoped>\n",
       "    .dataframe tbody tr th:only-of-type {\n",
       "        vertical-align: middle;\n",
       "    }\n",
       "\n",
       "    .dataframe tbody tr th {\n",
       "        vertical-align: top;\n",
       "    }\n",
       "\n",
       "    .dataframe thead th {\n",
       "        text-align: right;\n",
       "    }\n",
       "</style>\n",
       "<table border=\"1\" class=\"dataframe\">\n",
       "  <thead>\n",
       "    <tr style=\"text-align: right;\">\n",
       "      <th></th>\n",
       "      <th>rent</th>\n",
       "      <th>bedroom</th>\n",
       "      <th>bathroom</th>\n",
       "      <th>toilet</th>\n",
       "      <th>parking</th>\n",
       "    </tr>\n",
       "  </thead>\n",
       "  <tbody>\n",
       "    <tr>\n",
       "      <th>count</th>\n",
       "      <td>1.501100e+04</td>\n",
       "      <td>15011.000000</td>\n",
       "      <td>15011.000000</td>\n",
       "      <td>15011.000000</td>\n",
       "      <td>15011.000000</td>\n",
       "    </tr>\n",
       "    <tr>\n",
       "      <th>mean</th>\n",
       "      <td>4.718646e+06</td>\n",
       "      <td>3.118913</td>\n",
       "      <td>3.284991</td>\n",
       "      <td>3.953434</td>\n",
       "      <td>2.852775</td>\n",
       "    </tr>\n",
       "    <tr>\n",
       "      <th>std</th>\n",
       "      <td>4.049385e+06</td>\n",
       "      <td>1.150348</td>\n",
       "      <td>1.278865</td>\n",
       "      <td>1.396256</td>\n",
       "      <td>2.268644</td>\n",
       "    </tr>\n",
       "    <tr>\n",
       "      <th>min</th>\n",
       "      <td>3.000000e+05</td>\n",
       "      <td>1.000000</td>\n",
       "      <td>1.000000</td>\n",
       "      <td>1.000000</td>\n",
       "      <td>1.000000</td>\n",
       "    </tr>\n",
       "    <tr>\n",
       "      <th>25%</th>\n",
       "      <td>1.200000e+06</td>\n",
       "      <td>2.000000</td>\n",
       "      <td>2.000000</td>\n",
       "      <td>3.000000</td>\n",
       "      <td>2.000000</td>\n",
       "    </tr>\n",
       "    <tr>\n",
       "      <th>50%</th>\n",
       "      <td>5.500000e+06</td>\n",
       "      <td>3.000000</td>\n",
       "      <td>4.000000</td>\n",
       "      <td>4.000000</td>\n",
       "      <td>2.000000</td>\n",
       "    </tr>\n",
       "    <tr>\n",
       "      <th>75%</th>\n",
       "      <td>5.500000e+06</td>\n",
       "      <td>4.000000</td>\n",
       "      <td>4.000000</td>\n",
       "      <td>5.000000</td>\n",
       "      <td>3.000000</td>\n",
       "    </tr>\n",
       "    <tr>\n",
       "      <th>max</th>\n",
       "      <td>1.610000e+07</td>\n",
       "      <td>5.000000</td>\n",
       "      <td>5.000000</td>\n",
       "      <td>6.000000</td>\n",
       "      <td>12.000000</td>\n",
       "    </tr>\n",
       "  </tbody>\n",
       "</table>\n",
       "</div>"
      ],
      "text/plain": [
       "               rent       bedroom      bathroom        toilet       parking\n",
       "count  1.501100e+04  15011.000000  15011.000000  15011.000000  15011.000000\n",
       "mean   4.718646e+06      3.118913      3.284991      3.953434      2.852775\n",
       "std    4.049385e+06      1.150348      1.278865      1.396256      2.268644\n",
       "min    3.000000e+05      1.000000      1.000000      1.000000      1.000000\n",
       "25%    1.200000e+06      2.000000      2.000000      3.000000      2.000000\n",
       "50%    5.500000e+06      3.000000      4.000000      4.000000      2.000000\n",
       "75%    5.500000e+06      4.000000      4.000000      5.000000      3.000000\n",
       "max    1.610000e+07      5.000000      5.000000      6.000000     12.000000"
      ]
     },
     "execution_count": 34,
     "metadata": {},
     "output_type": "execute_result"
    }
   ],
   "source": [
    "# Summary statistics of the cleaned data\n",
    "\n",
    "cleaned_data.describe()"
   ]
  },
  {
   "cell_type": "code",
   "execution_count": 35,
   "metadata": {},
   "outputs": [
    {
     "data": {
      "image/png": "[encoded data removed]",
      "text/plain": [
       "<Figure size 864x720 with 1 Axes>"
      ]
     },
     "metadata": {
      "needs_background": "light"
     },
     "output_type": "display_data"
    }
   ],
   "source": [
    "cleaned_data[[\"bedroom\", \"bathroom\", \"toilet\", \"parking\"]].boxplot(figsize = (12,10))\n",
    "\n",
    "plt.show()"
   ]
  },
  {
   "cell_type": "markdown",
   "metadata": {},
   "source": [
    "The plot above reveals that the outliers have been taken care of. The 12 parking spaces is a possibility and cannot be intepreted as an outlier."
   ]
  },
  {
   "cell_type": "markdown",
   "metadata": {},
   "source": [
    "### Feature Engineering"
   ]
  },
  {
   "cell_type": "code",
   "execution_count": 36,
   "metadata": {},
   "outputs": [],
   "source": [
    "location_dict = {'Bogije Bogije Ibeju Lekki Lagos':'Bogije Ibeju_Lekki Lagos', \n",
    "                 'Eleko Eleko Ibeju Lekki Lagos':'Eleko Ibeju_Lekki Lagos',\n",
    "                 'Beechwood Estate Bogije Ibeju Lekki Lagos':'Beechwood Estate Bogije Ibeju_Lekki Lagos'}\n",
    "\n",
    "cleaned_data.replace(location_dict, inplace=True)"
   ]
  },
  {
   "cell_type": "code",
   "execution_count": 37,
   "metadata": {},
   "outputs": [],
   "source": [
    "# Creating a column for the Districts in Lagos\n",
    "\n",
    "def get_district(location):\n",
    "    \"\"\" The function extracts 'districts' from the location entries \"\"\"\n",
    "    \n",
    "    return location.split(' ')[-2]\n",
    "\n",
    "cleaned_data['district'] = cleaned_data['location'].apply(lambda x: get_district(x))"
   ]
  },
  {
   "cell_type": "code",
   "execution_count": 38,
   "metadata": {},
   "outputs": [
    {
     "data": {
      "text/html": [
       "<div>\n",
       "<style scoped>\n",
       "    .dataframe tbody tr th:only-of-type {\n",
       "        vertical-align: middle;\n",
       "    }\n",
       "\n",
       "    .dataframe tbody tr th {\n",
       "        vertical-align: top;\n",
       "    }\n",
       "\n",
       "    .dataframe thead th {\n",
       "        text-align: right;\n",
       "    }\n",
       "</style>\n",
       "<table border=\"1\" class=\"dataframe\">\n",
       "  <thead>\n",
       "    <tr style=\"text-align: right;\">\n",
       "      <th></th>\n",
       "      <th>location</th>\n",
       "      <th>rent</th>\n",
       "      <th>bedroom</th>\n",
       "      <th>bathroom</th>\n",
       "      <th>toilet</th>\n",
       "      <th>parking</th>\n",
       "      <th>district</th>\n",
       "    </tr>\n",
       "  </thead>\n",
       "  <tbody>\n",
       "    <tr>\n",
       "      <th>0</th>\n",
       "      <td>Iran-la Through Alasia Opposite Lbs Alasia Aj...</td>\n",
       "      <td>300000</td>\n",
       "      <td>1.0</td>\n",
       "      <td>1.0</td>\n",
       "      <td>1.0</td>\n",
       "      <td>2.0</td>\n",
       "      <td>Ajah</td>\n",
       "    </tr>\n",
       "    <tr>\n",
       "      <th>1</th>\n",
       "      <td>Opp Harmony Estate Ado Ajah Lagos</td>\n",
       "      <td>600000</td>\n",
       "      <td>2.0</td>\n",
       "      <td>2.0</td>\n",
       "      <td>2.0</td>\n",
       "      <td>2.0</td>\n",
       "      <td>Ajah</td>\n",
       "    </tr>\n",
       "    <tr>\n",
       "      <th>2</th>\n",
       "      <td>Iran-la Through Alasia Opposite Lbs Alasia Aj...</td>\n",
       "      <td>300000</td>\n",
       "      <td>1.0</td>\n",
       "      <td>1.0</td>\n",
       "      <td>1.0</td>\n",
       "      <td>2.0</td>\n",
       "      <td>Ajah</td>\n",
       "    </tr>\n",
       "    <tr>\n",
       "      <th>3</th>\n",
       "      <td>Opp Harmony Estate Ado Ajah Lagos</td>\n",
       "      <td>600000</td>\n",
       "      <td>2.0</td>\n",
       "      <td>2.0</td>\n",
       "      <td>2.0</td>\n",
       "      <td>2.0</td>\n",
       "      <td>Ajah</td>\n",
       "    </tr>\n",
       "    <tr>\n",
       "      <th>4</th>\n",
       "      <td>Iran-la Through Alasia Opposite Lbs Alasia Aj...</td>\n",
       "      <td>300000</td>\n",
       "      <td>1.0</td>\n",
       "      <td>1.0</td>\n",
       "      <td>1.0</td>\n",
       "      <td>2.0</td>\n",
       "      <td>Ajah</td>\n",
       "    </tr>\n",
       "  </tbody>\n",
       "</table>\n",
       "</div>"
      ],
      "text/plain": [
       "                                            location    rent  bedroom  \\\n",
       "0   Iran-la Through Alasia Opposite Lbs Alasia Aj...  300000      1.0   \n",
       "1                  Opp Harmony Estate Ado Ajah Lagos  600000      2.0   \n",
       "2   Iran-la Through Alasia Opposite Lbs Alasia Aj...  300000      1.0   \n",
       "3                  Opp Harmony Estate Ado Ajah Lagos  600000      2.0   \n",
       "4   Iran-la Through Alasia Opposite Lbs Alasia Aj...  300000      1.0   \n",
       "\n",
       "   bathroom  toilet  parking district  \n",
       "0       1.0     1.0      2.0     Ajah  \n",
       "1       2.0     2.0      2.0     Ajah  \n",
       "2       1.0     1.0      2.0     Ajah  \n",
       "3       2.0     2.0      2.0     Ajah  \n",
       "4       1.0     1.0      2.0     Ajah  "
      ]
     },
     "execution_count": 38,
     "metadata": {},
     "output_type": "execute_result"
    }
   ],
   "source": [
    "cleaned_data.head()"
   ]
  },
  {
   "cell_type": "code",
   "execution_count": 39,
   "metadata": {},
   "outputs": [
    {
     "data": {
      "text/plain": [
       "Lekki       7462\n",
       "Ikoyi       1682\n",
       "Ajah        1600\n",
       "Yaba         800\n",
       "Isolo        800\n",
       "Gbagada      800\n",
       "Surulere     800\n",
       "Maryland     800\n",
       "(VI)         174\n",
       "Ikeja         93\n",
       "Name: district, dtype: int64"
      ]
     },
     "execution_count": 39,
     "metadata": {},
     "output_type": "execute_result"
    }
   ],
   "source": [
    "cleaned_data['district'].value_counts()"
   ]
  },
  {
   "cell_type": "code",
   "execution_count": 40,
   "metadata": {},
   "outputs": [
    {
     "data": {
      "text/plain": [
       "Lekki              7462\n",
       "Ikoyi              1682\n",
       "Ajah               1600\n",
       "Yaba                800\n",
       "Isolo               800\n",
       "Gbagada             800\n",
       "Surulere            800\n",
       "Maryland            800\n",
       "Victoria Island     174\n",
       "Ikeja                93\n",
       "Name: district, dtype: int64"
      ]
     },
     "execution_count": 40,
     "metadata": {},
     "output_type": "execute_result"
    }
   ],
   "source": [
    "# Renaming 'VI' to Victoria Island\n",
    "\n",
    "cleaned_data.replace({'(VI)': 'Victoria Island'}, inplace=True)\n",
    "\n",
    "cleaned_data['district'].value_counts()"
   ]
  },
  {
   "cell_type": "code",
   "execution_count": 41,
   "metadata": {},
   "outputs": [
    {
     "data": {
      "text/html": [
       "<div>\n",
       "<style scoped>\n",
       "    .dataframe tbody tr th:only-of-type {\n",
       "        vertical-align: middle;\n",
       "    }\n",
       "\n",
       "    .dataframe tbody tr th {\n",
       "        vertical-align: top;\n",
       "    }\n",
       "\n",
       "    .dataframe thead th {\n",
       "        text-align: right;\n",
       "    }\n",
       "</style>\n",
       "<table border=\"1\" class=\"dataframe\">\n",
       "  <thead>\n",
       "    <tr style=\"text-align: right;\">\n",
       "      <th></th>\n",
       "      <th>location</th>\n",
       "      <th>rent</th>\n",
       "      <th>bedroom</th>\n",
       "      <th>bathroom</th>\n",
       "      <th>toilet</th>\n",
       "      <th>parking</th>\n",
       "      <th>district</th>\n",
       "      <th>island</th>\n",
       "    </tr>\n",
       "  </thead>\n",
       "  <tbody>\n",
       "    <tr>\n",
       "      <th>0</th>\n",
       "      <td>Iran-la Through Alasia Opposite Lbs Alasia Aj...</td>\n",
       "      <td>300000</td>\n",
       "      <td>1.0</td>\n",
       "      <td>1.0</td>\n",
       "      <td>1.0</td>\n",
       "      <td>2.0</td>\n",
       "      <td>Ajah</td>\n",
       "      <td>yes</td>\n",
       "    </tr>\n",
       "    <tr>\n",
       "      <th>1</th>\n",
       "      <td>Opp Harmony Estate Ado Ajah Lagos</td>\n",
       "      <td>600000</td>\n",
       "      <td>2.0</td>\n",
       "      <td>2.0</td>\n",
       "      <td>2.0</td>\n",
       "      <td>2.0</td>\n",
       "      <td>Ajah</td>\n",
       "      <td>yes</td>\n",
       "    </tr>\n",
       "    <tr>\n",
       "      <th>2</th>\n",
       "      <td>Iran-la Through Alasia Opposite Lbs Alasia Aj...</td>\n",
       "      <td>300000</td>\n",
       "      <td>1.0</td>\n",
       "      <td>1.0</td>\n",
       "      <td>1.0</td>\n",
       "      <td>2.0</td>\n",
       "      <td>Ajah</td>\n",
       "      <td>yes</td>\n",
       "    </tr>\n",
       "    <tr>\n",
       "      <th>3</th>\n",
       "      <td>Opp Harmony Estate Ado Ajah Lagos</td>\n",
       "      <td>600000</td>\n",
       "      <td>2.0</td>\n",
       "      <td>2.0</td>\n",
       "      <td>2.0</td>\n",
       "      <td>2.0</td>\n",
       "      <td>Ajah</td>\n",
       "      <td>yes</td>\n",
       "    </tr>\n",
       "    <tr>\n",
       "      <th>4</th>\n",
       "      <td>Iran-la Through Alasia Opposite Lbs Alasia Aj...</td>\n",
       "      <td>300000</td>\n",
       "      <td>1.0</td>\n",
       "      <td>1.0</td>\n",
       "      <td>1.0</td>\n",
       "      <td>2.0</td>\n",
       "      <td>Ajah</td>\n",
       "      <td>yes</td>\n",
       "    </tr>\n",
       "  </tbody>\n",
       "</table>\n",
       "</div>"
      ],
      "text/plain": [
       "                                            location    rent  bedroom  \\\n",
       "0   Iran-la Through Alasia Opposite Lbs Alasia Aj...  300000      1.0   \n",
       "1                  Opp Harmony Estate Ado Ajah Lagos  600000      2.0   \n",
       "2   Iran-la Through Alasia Opposite Lbs Alasia Aj...  300000      1.0   \n",
       "3                  Opp Harmony Estate Ado Ajah Lagos  600000      2.0   \n",
       "4   Iran-la Through Alasia Opposite Lbs Alasia Aj...  300000      1.0   \n",
       "\n",
       "   bathroom  toilet  parking district island  \n",
       "0       1.0     1.0      2.0     Ajah    yes  \n",
       "1       2.0     2.0      2.0     Ajah    yes  \n",
       "2       1.0     1.0      2.0     Ajah    yes  \n",
       "3       2.0     2.0      2.0     Ajah    yes  \n",
       "4       1.0     1.0      2.0     Ajah    yes  "
      ]
     },
     "execution_count": 41,
     "metadata": {},
     "output_type": "execute_result"
    }
   ],
   "source": [
    "# Creating a column for island districts\n",
    "\n",
    "district_dict1 = {'Ajah':'yes', 'Gbagada':'no', 'Ikeja':'no', 'Ikoyi':'yes', 'Isolo':'no', \n",
    "                 'Lekki':'yes', 'Maryland':'no', 'Surulere':'no', 'Victoria Island':'yes', 'Yaba':'no'}\n",
    "\n",
    "cleaned_data['island'] = cleaned_data['district'].replace(district_dict1)\n",
    "\n",
    "cleaned_data.head()"
   ]
  },
  {
   "cell_type": "code",
   "execution_count": 42,
   "metadata": {
    "scrolled": true
   },
   "outputs": [
    {
     "data": {
      "text/plain": [
       "yes    10918\n",
       "no      4093\n",
       "Name: island, dtype: int64"
      ]
     },
     "execution_count": 42,
     "metadata": {},
     "output_type": "execute_result"
    }
   ],
   "source": [
    "cleaned_data['island'].value_counts()"
   ]
  },
  {
   "cell_type": "code",
   "execution_count": 43,
   "metadata": {},
   "outputs": [
    {
     "data": {
      "text/html": [
       "<div>\n",
       "<style scoped>\n",
       "    .dataframe tbody tr th:only-of-type {\n",
       "        vertical-align: middle;\n",
       "    }\n",
       "\n",
       "    .dataframe tbody tr th {\n",
       "        vertical-align: top;\n",
       "    }\n",
       "\n",
       "    .dataframe thead th {\n",
       "        text-align: right;\n",
       "    }\n",
       "</style>\n",
       "<table border=\"1\" class=\"dataframe\">\n",
       "  <thead>\n",
       "    <tr style=\"text-align: right;\">\n",
       "      <th></th>\n",
       "      <th>location</th>\n",
       "      <th>rent</th>\n",
       "      <th>bedroom</th>\n",
       "      <th>bathroom</th>\n",
       "      <th>toilet</th>\n",
       "      <th>parking</th>\n",
       "      <th>district</th>\n",
       "      <th>island</th>\n",
       "      <th>industrial</th>\n",
       "    </tr>\n",
       "  </thead>\n",
       "  <tbody>\n",
       "    <tr>\n",
       "      <th>0</th>\n",
       "      <td>Iran-la Through Alasia Opposite Lbs Alasia Aj...</td>\n",
       "      <td>300000</td>\n",
       "      <td>1.0</td>\n",
       "      <td>1.0</td>\n",
       "      <td>1.0</td>\n",
       "      <td>2.0</td>\n",
       "      <td>Ajah</td>\n",
       "      <td>yes</td>\n",
       "      <td>no</td>\n",
       "    </tr>\n",
       "    <tr>\n",
       "      <th>1</th>\n",
       "      <td>Opp Harmony Estate Ado Ajah Lagos</td>\n",
       "      <td>600000</td>\n",
       "      <td>2.0</td>\n",
       "      <td>2.0</td>\n",
       "      <td>2.0</td>\n",
       "      <td>2.0</td>\n",
       "      <td>Ajah</td>\n",
       "      <td>yes</td>\n",
       "      <td>no</td>\n",
       "    </tr>\n",
       "    <tr>\n",
       "      <th>2</th>\n",
       "      <td>Iran-la Through Alasia Opposite Lbs Alasia Aj...</td>\n",
       "      <td>300000</td>\n",
       "      <td>1.0</td>\n",
       "      <td>1.0</td>\n",
       "      <td>1.0</td>\n",
       "      <td>2.0</td>\n",
       "      <td>Ajah</td>\n",
       "      <td>yes</td>\n",
       "      <td>no</td>\n",
       "    </tr>\n",
       "    <tr>\n",
       "      <th>3</th>\n",
       "      <td>Opp Harmony Estate Ado Ajah Lagos</td>\n",
       "      <td>600000</td>\n",
       "      <td>2.0</td>\n",
       "      <td>2.0</td>\n",
       "      <td>2.0</td>\n",
       "      <td>2.0</td>\n",
       "      <td>Ajah</td>\n",
       "      <td>yes</td>\n",
       "      <td>no</td>\n",
       "    </tr>\n",
       "    <tr>\n",
       "      <th>4</th>\n",
       "      <td>Iran-la Through Alasia Opposite Lbs Alasia Aj...</td>\n",
       "      <td>300000</td>\n",
       "      <td>1.0</td>\n",
       "      <td>1.0</td>\n",
       "      <td>1.0</td>\n",
       "      <td>2.0</td>\n",
       "      <td>Ajah</td>\n",
       "      <td>yes</td>\n",
       "      <td>no</td>\n",
       "    </tr>\n",
       "  </tbody>\n",
       "</table>\n",
       "</div>"
      ],
      "text/plain": [
       "                                            location    rent  bedroom  \\\n",
       "0   Iran-la Through Alasia Opposite Lbs Alasia Aj...  300000      1.0   \n",
       "1                  Opp Harmony Estate Ado Ajah Lagos  600000      2.0   \n",
       "2   Iran-la Through Alasia Opposite Lbs Alasia Aj...  300000      1.0   \n",
       "3                  Opp Harmony Estate Ado Ajah Lagos  600000      2.0   \n",
       "4   Iran-la Through Alasia Opposite Lbs Alasia Aj...  300000      1.0   \n",
       "\n",
       "   bathroom  toilet  parking district island industrial  \n",
       "0       1.0     1.0      2.0     Ajah    yes         no  \n",
       "1       2.0     2.0      2.0     Ajah    yes         no  \n",
       "2       1.0     1.0      2.0     Ajah    yes         no  \n",
       "3       2.0     2.0      2.0     Ajah    yes         no  \n",
       "4       1.0     1.0      2.0     Ajah    yes         no  "
      ]
     },
     "execution_count": 43,
     "metadata": {},
     "output_type": "execute_result"
    }
   ],
   "source": [
    "# Generating a column for industrial districts\n",
    "\n",
    "district_dict2 = {'Ajah':'no', 'Gbagada':'yes', 'Ikeja':'yes', 'Ikoyi':'no', 'Isolo':'yes', \n",
    "                 'Lekki':'no', 'Maryland':'no', 'Surulere':'yes', 'Victoria Island':'no', 'Yaba':'no'}\n",
    "\n",
    "cleaned_data['industrial'] = cleaned_data['district'].replace(district_dict2)\n",
    "\n",
    "cleaned_data.head()"
   ]
  },
  {
   "cell_type": "code",
   "execution_count": 44,
   "metadata": {
    "scrolled": true
   },
   "outputs": [
    {
     "data": {
      "text/html": [
       "<div>\n",
       "<style scoped>\n",
       "    .dataframe tbody tr th:only-of-type {\n",
       "        vertical-align: middle;\n",
       "    }\n",
       "\n",
       "    .dataframe tbody tr th {\n",
       "        vertical-align: top;\n",
       "    }\n",
       "\n",
       "    .dataframe thead th {\n",
       "        text-align: right;\n",
       "    }\n",
       "</style>\n",
       "<table border=\"1\" class=\"dataframe\">\n",
       "  <thead>\n",
       "    <tr style=\"text-align: right;\">\n",
       "      <th></th>\n",
       "      <th>location</th>\n",
       "      <th>rent</th>\n",
       "      <th>bedroom</th>\n",
       "      <th>bathroom</th>\n",
       "      <th>toilet</th>\n",
       "      <th>parking</th>\n",
       "      <th>district</th>\n",
       "      <th>island</th>\n",
       "      <th>industrial</th>\n",
       "    </tr>\n",
       "  </thead>\n",
       "  <tbody>\n",
       "    <tr>\n",
       "      <th>0</th>\n",
       "      <td>Osapa London Osapa Lekki Lagos</td>\n",
       "      <td>5500000</td>\n",
       "      <td>4.0</td>\n",
       "      <td>4.0</td>\n",
       "      <td>5.0</td>\n",
       "      <td>3.0</td>\n",
       "      <td>Lekki</td>\n",
       "      <td>yes</td>\n",
       "      <td>no</td>\n",
       "    </tr>\n",
       "    <tr>\n",
       "      <th>1</th>\n",
       "      <td>In A Well Secured Mini Court Ikoyi Lagos</td>\n",
       "      <td>13000000</td>\n",
       "      <td>4.0</td>\n",
       "      <td>5.0</td>\n",
       "      <td>5.0</td>\n",
       "      <td>3.0</td>\n",
       "      <td>Ikoyi</td>\n",
       "      <td>yes</td>\n",
       "      <td>no</td>\n",
       "    </tr>\n",
       "    <tr>\n",
       "      <th>2</th>\n",
       "      <td>Alagomeji Yaba Lagos. Alagomeji Yaba Lagos</td>\n",
       "      <td>1500000</td>\n",
       "      <td>2.0</td>\n",
       "      <td>2.0</td>\n",
       "      <td>3.0</td>\n",
       "      <td>2.0</td>\n",
       "      <td>Yaba</td>\n",
       "      <td>no</td>\n",
       "      <td>no</td>\n",
       "    </tr>\n",
       "    <tr>\n",
       "      <th>3</th>\n",
       "      <td>Alagomeji Yaba Lagos. Alagomeji Yaba Lagos</td>\n",
       "      <td>1500000</td>\n",
       "      <td>2.0</td>\n",
       "      <td>2.0</td>\n",
       "      <td>3.0</td>\n",
       "      <td>2.0</td>\n",
       "      <td>Yaba</td>\n",
       "      <td>no</td>\n",
       "      <td>no</td>\n",
       "    </tr>\n",
       "    <tr>\n",
       "      <th>4</th>\n",
       "      <td>Kilo Surulere Lagos</td>\n",
       "      <td>800000</td>\n",
       "      <td>2.0</td>\n",
       "      <td>2.0</td>\n",
       "      <td>2.0</td>\n",
       "      <td>1.0</td>\n",
       "      <td>Surulere</td>\n",
       "      <td>no</td>\n",
       "      <td>yes</td>\n",
       "    </tr>\n",
       "  </tbody>\n",
       "</table>\n",
       "</div>"
      ],
      "text/plain": [
       "                                      location      rent  bedroom  bathroom  \\\n",
       "0               Osapa London Osapa Lekki Lagos   5500000      4.0       4.0   \n",
       "1     In A Well Secured Mini Court Ikoyi Lagos  13000000      4.0       5.0   \n",
       "2   Alagomeji Yaba Lagos. Alagomeji Yaba Lagos   1500000      2.0       2.0   \n",
       "3   Alagomeji Yaba Lagos. Alagomeji Yaba Lagos   1500000      2.0       2.0   \n",
       "4                          Kilo Surulere Lagos    800000      2.0       2.0   \n",
       "\n",
       "   toilet  parking  district island industrial  \n",
       "0     5.0      3.0     Lekki    yes         no  \n",
       "1     5.0      3.0     Ikoyi    yes         no  \n",
       "2     3.0      2.0      Yaba     no         no  \n",
       "3     3.0      2.0      Yaba     no         no  \n",
       "4     2.0      1.0  Surulere     no        yes  "
      ]
     },
     "execution_count": 44,
     "metadata": {},
     "output_type": "execute_result"
    }
   ],
   "source": [
    "# Shuffling the cleaned dataset\n",
    "\n",
    "cleaned_data = cleaned_data.sample(cleaned_data.shape[0]).reset_index(drop=True)\n",
    "\n",
    "cleaned_data.head()"
   ]
  },
  {
   "cell_type": "code",
   "execution_count": 45,
   "metadata": {},
   "outputs": [],
   "source": [
    "project_data_cleaned = cleaned_data.to_csv('project_data_cleaned.csv', index=False)"
   ]
  },
  {
   "cell_type": "code",
   "execution_count": 46,
   "metadata": {},
   "outputs": [],
   "source": [
    "# Encoding the non-numeric labels\n",
    "\n",
    "from sklearn.preprocessing import LabelEncoder\n",
    "\n",
    "label_encode = LabelEncoder()\n",
    "\n",
    "cleaned_data['district'] = label_encode.fit_transform(cleaned_data['district'])\n",
    "cleaned_data['island'] = label_encode.fit_transform(cleaned_data['island'])\n",
    "cleaned_data['industrial'] = label_encode.fit_transform(cleaned_data['industrial'])"
   ]
  },
  {
   "cell_type": "code",
   "execution_count": 47,
   "metadata": {
    "scrolled": true
   },
   "outputs": [
    {
     "data": {
      "text/html": [
       "<div>\n",
       "<style scoped>\n",
       "    .dataframe tbody tr th:only-of-type {\n",
       "        vertical-align: middle;\n",
       "    }\n",
       "\n",
       "    .dataframe tbody tr th {\n",
       "        vertical-align: top;\n",
       "    }\n",
       "\n",
       "    .dataframe thead th {\n",
       "        text-align: right;\n",
       "    }\n",
       "</style>\n",
       "<table border=\"1\" class=\"dataframe\">\n",
       "  <thead>\n",
       "    <tr style=\"text-align: right;\">\n",
       "      <th></th>\n",
       "      <th>location</th>\n",
       "      <th>rent</th>\n",
       "      <th>bedroom</th>\n",
       "      <th>bathroom</th>\n",
       "      <th>toilet</th>\n",
       "      <th>parking</th>\n",
       "      <th>district</th>\n",
       "      <th>island</th>\n",
       "      <th>industrial</th>\n",
       "    </tr>\n",
       "  </thead>\n",
       "  <tbody>\n",
       "    <tr>\n",
       "      <th>0</th>\n",
       "      <td>Osapa London Osapa Lekki Lagos</td>\n",
       "      <td>5500000</td>\n",
       "      <td>4.0</td>\n",
       "      <td>4.0</td>\n",
       "      <td>5.0</td>\n",
       "      <td>3.0</td>\n",
       "      <td>5</td>\n",
       "      <td>1</td>\n",
       "      <td>0</td>\n",
       "    </tr>\n",
       "    <tr>\n",
       "      <th>1</th>\n",
       "      <td>In A Well Secured Mini Court Ikoyi Lagos</td>\n",
       "      <td>13000000</td>\n",
       "      <td>4.0</td>\n",
       "      <td>5.0</td>\n",
       "      <td>5.0</td>\n",
       "      <td>3.0</td>\n",
       "      <td>3</td>\n",
       "      <td>1</td>\n",
       "      <td>0</td>\n",
       "    </tr>\n",
       "    <tr>\n",
       "      <th>2</th>\n",
       "      <td>Alagomeji Yaba Lagos. Alagomeji Yaba Lagos</td>\n",
       "      <td>1500000</td>\n",
       "      <td>2.0</td>\n",
       "      <td>2.0</td>\n",
       "      <td>3.0</td>\n",
       "      <td>2.0</td>\n",
       "      <td>9</td>\n",
       "      <td>0</td>\n",
       "      <td>0</td>\n",
       "    </tr>\n",
       "    <tr>\n",
       "      <th>3</th>\n",
       "      <td>Alagomeji Yaba Lagos. Alagomeji Yaba Lagos</td>\n",
       "      <td>1500000</td>\n",
       "      <td>2.0</td>\n",
       "      <td>2.0</td>\n",
       "      <td>3.0</td>\n",
       "      <td>2.0</td>\n",
       "      <td>9</td>\n",
       "      <td>0</td>\n",
       "      <td>0</td>\n",
       "    </tr>\n",
       "    <tr>\n",
       "      <th>4</th>\n",
       "      <td>Kilo Surulere Lagos</td>\n",
       "      <td>800000</td>\n",
       "      <td>2.0</td>\n",
       "      <td>2.0</td>\n",
       "      <td>2.0</td>\n",
       "      <td>1.0</td>\n",
       "      <td>7</td>\n",
       "      <td>0</td>\n",
       "      <td>1</td>\n",
       "    </tr>\n",
       "  </tbody>\n",
       "</table>\n",
       "</div>"
      ],
      "text/plain": [
       "                                      location      rent  bedroom  bathroom  \\\n",
       "0               Osapa London Osapa Lekki Lagos   5500000      4.0       4.0   \n",
       "1     In A Well Secured Mini Court Ikoyi Lagos  13000000      4.0       5.0   \n",
       "2   Alagomeji Yaba Lagos. Alagomeji Yaba Lagos   1500000      2.0       2.0   \n",
       "3   Alagomeji Yaba Lagos. Alagomeji Yaba Lagos   1500000      2.0       2.0   \n",
       "4                          Kilo Surulere Lagos    800000      2.0       2.0   \n",
       "\n",
       "   toilet  parking  district  island  industrial  \n",
       "0     5.0      3.0         5       1           0  \n",
       "1     5.0      3.0         3       1           0  \n",
       "2     3.0      2.0         9       0           0  \n",
       "3     3.0      2.0         9       0           0  \n",
       "4     2.0      1.0         7       0           1  "
      ]
     },
     "execution_count": 47,
     "metadata": {},
     "output_type": "execute_result"
    }
   ],
   "source": [
    "cleaned_data.head()"
   ]
  },
  {
   "cell_type": "markdown",
   "metadata": {},
   "source": [
    "### Normalizing the dataset"
   ]
  },
  {
   "cell_type": "code",
   "execution_count": 48,
   "metadata": {
    "scrolled": true
   },
   "outputs": [
    {
     "data": {
      "text/html": [
       "<div>\n",
       "<style scoped>\n",
       "    .dataframe tbody tr th:only-of-type {\n",
       "        vertical-align: middle;\n",
       "    }\n",
       "\n",
       "    .dataframe tbody tr th {\n",
       "        vertical-align: top;\n",
       "    }\n",
       "\n",
       "    .dataframe thead th {\n",
       "        text-align: right;\n",
       "    }\n",
       "</style>\n",
       "<table border=\"1\" class=\"dataframe\">\n",
       "  <thead>\n",
       "    <tr style=\"text-align: right;\">\n",
       "      <th></th>\n",
       "      <th>rent</th>\n",
       "      <th>bedroom</th>\n",
       "      <th>bathroom</th>\n",
       "      <th>toilet</th>\n",
       "      <th>parking</th>\n",
       "      <th>district</th>\n",
       "      <th>island</th>\n",
       "      <th>industrial</th>\n",
       "    </tr>\n",
       "  </thead>\n",
       "  <tbody>\n",
       "    <tr>\n",
       "      <th>0</th>\n",
       "      <td>5500000</td>\n",
       "      <td>4.0</td>\n",
       "      <td>4.0</td>\n",
       "      <td>5.0</td>\n",
       "      <td>3.0</td>\n",
       "      <td>5</td>\n",
       "      <td>1</td>\n",
       "      <td>0</td>\n",
       "    </tr>\n",
       "    <tr>\n",
       "      <th>1</th>\n",
       "      <td>13000000</td>\n",
       "      <td>4.0</td>\n",
       "      <td>5.0</td>\n",
       "      <td>5.0</td>\n",
       "      <td>3.0</td>\n",
       "      <td>3</td>\n",
       "      <td>1</td>\n",
       "      <td>0</td>\n",
       "    </tr>\n",
       "    <tr>\n",
       "      <th>2</th>\n",
       "      <td>1500000</td>\n",
       "      <td>2.0</td>\n",
       "      <td>2.0</td>\n",
       "      <td>3.0</td>\n",
       "      <td>2.0</td>\n",
       "      <td>9</td>\n",
       "      <td>0</td>\n",
       "      <td>0</td>\n",
       "    </tr>\n",
       "    <tr>\n",
       "      <th>3</th>\n",
       "      <td>1500000</td>\n",
       "      <td>2.0</td>\n",
       "      <td>2.0</td>\n",
       "      <td>3.0</td>\n",
       "      <td>2.0</td>\n",
       "      <td>9</td>\n",
       "      <td>0</td>\n",
       "      <td>0</td>\n",
       "    </tr>\n",
       "    <tr>\n",
       "      <th>4</th>\n",
       "      <td>800000</td>\n",
       "      <td>2.0</td>\n",
       "      <td>2.0</td>\n",
       "      <td>2.0</td>\n",
       "      <td>1.0</td>\n",
       "      <td>7</td>\n",
       "      <td>0</td>\n",
       "      <td>1</td>\n",
       "    </tr>\n",
       "  </tbody>\n",
       "</table>\n",
       "</div>"
      ],
      "text/plain": [
       "       rent  bedroom  bathroom  toilet  parking  district  island  industrial\n",
       "0   5500000      4.0       4.0     5.0      3.0         5       1           0\n",
       "1  13000000      4.0       5.0     5.0      3.0         3       1           0\n",
       "2   1500000      2.0       2.0     3.0      2.0         9       0           0\n",
       "3   1500000      2.0       2.0     3.0      2.0         9       0           0\n",
       "4    800000      2.0       2.0     2.0      1.0         7       0           1"
      ]
     },
     "execution_count": 48,
     "metadata": {},
     "output_type": "execute_result"
    }
   ],
   "source": [
    "num_data = cleaned_data.drop(columns=['location'])\n",
    "\n",
    "num_data.head()"
   ]
  },
  {
   "cell_type": "code",
   "execution_count": 49,
   "metadata": {},
   "outputs": [],
   "source": [
    "# Scaling the features with MinMaxScaler\n",
    "\n",
    "from sklearn.preprocessing import MinMaxScaler\n",
    "\n",
    "min_max_scaler = MinMaxScaler()\n",
    "min_max_data = pd.DataFrame(min_max_scaler.fit_transform(num_data), columns=num_data.columns)"
   ]
  },
  {
   "cell_type": "code",
   "execution_count": 50,
   "metadata": {
    "scrolled": true
   },
   "outputs": [
    {
     "data": {
      "text/html": [
       "<div>\n",
       "<style scoped>\n",
       "    .dataframe tbody tr th:only-of-type {\n",
       "        vertical-align: middle;\n",
       "    }\n",
       "\n",
       "    .dataframe tbody tr th {\n",
       "        vertical-align: top;\n",
       "    }\n",
       "\n",
       "    .dataframe thead th {\n",
       "        text-align: right;\n",
       "    }\n",
       "</style>\n",
       "<table border=\"1\" class=\"dataframe\">\n",
       "  <thead>\n",
       "    <tr style=\"text-align: right;\">\n",
       "      <th></th>\n",
       "      <th>rent</th>\n",
       "      <th>bedroom</th>\n",
       "      <th>bathroom</th>\n",
       "      <th>toilet</th>\n",
       "      <th>parking</th>\n",
       "      <th>district</th>\n",
       "      <th>island</th>\n",
       "      <th>industrial</th>\n",
       "    </tr>\n",
       "  </thead>\n",
       "  <tbody>\n",
       "    <tr>\n",
       "      <th>0</th>\n",
       "      <td>0.329114</td>\n",
       "      <td>0.75</td>\n",
       "      <td>0.75</td>\n",
       "      <td>0.8</td>\n",
       "      <td>0.181818</td>\n",
       "      <td>0.555556</td>\n",
       "      <td>1.0</td>\n",
       "      <td>0.0</td>\n",
       "    </tr>\n",
       "    <tr>\n",
       "      <th>1</th>\n",
       "      <td>0.803797</td>\n",
       "      <td>0.75</td>\n",
       "      <td>1.00</td>\n",
       "      <td>0.8</td>\n",
       "      <td>0.181818</td>\n",
       "      <td>0.333333</td>\n",
       "      <td>1.0</td>\n",
       "      <td>0.0</td>\n",
       "    </tr>\n",
       "    <tr>\n",
       "      <th>2</th>\n",
       "      <td>0.075949</td>\n",
       "      <td>0.25</td>\n",
       "      <td>0.25</td>\n",
       "      <td>0.4</td>\n",
       "      <td>0.090909</td>\n",
       "      <td>1.000000</td>\n",
       "      <td>0.0</td>\n",
       "      <td>0.0</td>\n",
       "    </tr>\n",
       "    <tr>\n",
       "      <th>3</th>\n",
       "      <td>0.075949</td>\n",
       "      <td>0.25</td>\n",
       "      <td>0.25</td>\n",
       "      <td>0.4</td>\n",
       "      <td>0.090909</td>\n",
       "      <td>1.000000</td>\n",
       "      <td>0.0</td>\n",
       "      <td>0.0</td>\n",
       "    </tr>\n",
       "    <tr>\n",
       "      <th>4</th>\n",
       "      <td>0.031646</td>\n",
       "      <td>0.25</td>\n",
       "      <td>0.25</td>\n",
       "      <td>0.2</td>\n",
       "      <td>0.000000</td>\n",
       "      <td>0.777778</td>\n",
       "      <td>0.0</td>\n",
       "      <td>1.0</td>\n",
       "    </tr>\n",
       "  </tbody>\n",
       "</table>\n",
       "</div>"
      ],
      "text/plain": [
       "       rent  bedroom  bathroom  toilet   parking  district  island  industrial\n",
       "0  0.329114     0.75      0.75     0.8  0.181818  0.555556     1.0         0.0\n",
       "1  0.803797     0.75      1.00     0.8  0.181818  0.333333     1.0         0.0\n",
       "2  0.075949     0.25      0.25     0.4  0.090909  1.000000     0.0         0.0\n",
       "3  0.075949     0.25      0.25     0.4  0.090909  1.000000     0.0         0.0\n",
       "4  0.031646     0.25      0.25     0.2  0.000000  0.777778     0.0         1.0"
      ]
     },
     "execution_count": 50,
     "metadata": {},
     "output_type": "execute_result"
    }
   ],
   "source": [
    "min_max_data.head()"
   ]
  },
  {
   "cell_type": "code",
   "execution_count": 51,
   "metadata": {},
   "outputs": [],
   "source": [
    "# Scaling the features with StandardScaler\n",
    "\n",
    "from sklearn.preprocessing import StandardScaler\n",
    "\n",
    "std_scaler = StandardScaler()\n",
    "\n",
    "std_scaled_data = pd.DataFrame(std_scaler.fit_transform(num_data), columns=num_data.columns)"
   ]
  },
  {
   "cell_type": "code",
   "execution_count": 52,
   "metadata": {},
   "outputs": [
    {
     "data": {
      "text/html": [
       "<div>\n",
       "<style scoped>\n",
       "    .dataframe tbody tr th:only-of-type {\n",
       "        vertical-align: middle;\n",
       "    }\n",
       "\n",
       "    .dataframe tbody tr th {\n",
       "        vertical-align: top;\n",
       "    }\n",
       "\n",
       "    .dataframe thead th {\n",
       "        text-align: right;\n",
       "    }\n",
       "</style>\n",
       "<table border=\"1\" class=\"dataframe\">\n",
       "  <thead>\n",
       "    <tr style=\"text-align: right;\">\n",
       "      <th></th>\n",
       "      <th>rent</th>\n",
       "      <th>bedroom</th>\n",
       "      <th>bathroom</th>\n",
       "      <th>toilet</th>\n",
       "      <th>parking</th>\n",
       "      <th>district</th>\n",
       "      <th>island</th>\n",
       "      <th>industrial</th>\n",
       "    </tr>\n",
       "  </thead>\n",
       "  <tbody>\n",
       "    <tr>\n",
       "      <th>0</th>\n",
       "      <td>0.192963</td>\n",
       "      <td>0.765957</td>\n",
       "      <td>0.559115</td>\n",
       "      <td>0.749577</td>\n",
       "      <td>0.064898</td>\n",
       "      <td>0.286654</td>\n",
       "      <td>0.612279</td>\n",
       "      <td>-0.446266</td>\n",
       "    </tr>\n",
       "    <tr>\n",
       "      <th>1</th>\n",
       "      <td>2.045157</td>\n",
       "      <td>0.765957</td>\n",
       "      <td>1.341084</td>\n",
       "      <td>0.749577</td>\n",
       "      <td>0.064898</td>\n",
       "      <td>-0.617234</td>\n",
       "      <td>0.612279</td>\n",
       "      <td>-0.446266</td>\n",
       "    </tr>\n",
       "    <tr>\n",
       "      <th>2</th>\n",
       "      <td>-0.794875</td>\n",
       "      <td>-0.972706</td>\n",
       "      <td>-1.004823</td>\n",
       "      <td>-0.682873</td>\n",
       "      <td>-0.375909</td>\n",
       "      <td>2.094429</td>\n",
       "      <td>-1.633243</td>\n",
       "      <td>-0.446266</td>\n",
       "    </tr>\n",
       "    <tr>\n",
       "      <th>3</th>\n",
       "      <td>-0.794875</td>\n",
       "      <td>-0.972706</td>\n",
       "      <td>-1.004823</td>\n",
       "      <td>-0.682873</td>\n",
       "      <td>-0.375909</td>\n",
       "      <td>2.094429</td>\n",
       "      <td>-1.633243</td>\n",
       "      <td>-0.446266</td>\n",
       "    </tr>\n",
       "    <tr>\n",
       "      <th>4</th>\n",
       "      <td>-0.967746</td>\n",
       "      <td>-0.972706</td>\n",
       "      <td>-1.004823</td>\n",
       "      <td>-1.399098</td>\n",
       "      <td>-0.816715</td>\n",
       "      <td>1.190541</td>\n",
       "      <td>-1.633243</td>\n",
       "      <td>2.240817</td>\n",
       "    </tr>\n",
       "  </tbody>\n",
       "</table>\n",
       "</div>"
      ],
      "text/plain": [
       "       rent   bedroom  bathroom    toilet   parking  district    island  \\\n",
       "0  0.192963  0.765957  0.559115  0.749577  0.064898  0.286654  0.612279   \n",
       "1  2.045157  0.765957  1.341084  0.749577  0.064898 -0.617234  0.612279   \n",
       "2 -0.794875 -0.972706 -1.004823 -0.682873 -0.375909  2.094429 -1.633243   \n",
       "3 -0.794875 -0.972706 -1.004823 -0.682873 -0.375909  2.094429 -1.633243   \n",
       "4 -0.967746 -0.972706 -1.004823 -1.399098 -0.816715  1.190541 -1.633243   \n",
       "\n",
       "   industrial  \n",
       "0   -0.446266  \n",
       "1   -0.446266  \n",
       "2   -0.446266  \n",
       "3   -0.446266  \n",
       "4    2.240817  "
      ]
     },
     "execution_count": 52,
     "metadata": {},
     "output_type": "execute_result"
    }
   ],
   "source": [
    "std_scaled_data.head()"
   ]
  },
  {
   "cell_type": "markdown",
   "metadata": {},
   "source": [
    "### Feature Selection"
   ]
  },
  {
   "cell_type": "code",
   "execution_count": 53,
   "metadata": {},
   "outputs": [
    {
     "data": {
      "text/plain": [
       "Text(0.5, 1.0, 'Correlation Heatmap')"
      ]
     },
     "execution_count": 53,
     "metadata": {},
     "output_type": "execute_result"
    },
    {
     "data": {
      "image/png": "[encoded data removed]",
      "text/plain": [
       "<Figure size 864x432 with 2 Axes>"
      ]
     },
     "metadata": {
      "needs_background": "light"
     },
     "output_type": "display_data"
    }
   ],
   "source": [
    "plt.figure(figsize=(12, 6))\n",
    "\n",
    "mask = np.triu(np.ones_like(cleaned_data.corr(), dtype=np.bool))\n",
    "heatmap = sns.heatmap(cleaned_data.corr(), mask=mask, vmin=-1, vmax=1, annot=True, cmap='BrBG')\n",
    "heatmap.set_title('Correlation Heatmap', fontdict={'fontsize':18}, pad=16)"
   ]
  },
  {
   "cell_type": "code",
   "execution_count": 54,
   "metadata": {},
   "outputs": [],
   "source": [
    "from sklearn.feature_selection import RFE\n",
    "\n",
    "def rfe_selector(df, model):\n",
    "    rfe_init = RFE(model, 4)\n",
    "    \n",
    "    x = df.drop(columns=['rent'])\n",
    "    y = df['rent']\n",
    "    x_train, x_test, y_train, y_test = train_test_split(x, y, test_size = 0.2, random_state = 42)\n",
    "    rfe = rfe_init.fit(x_train, y_train)\n",
    "    \n",
    "    Rfe = list(zip(x_train.columns,rfe.support_,rfe.ranking_))\n",
    "    \n",
    "    return Rfe"
   ]
  },
  {
   "cell_type": "code",
   "execution_count": 55,
   "metadata": {},
   "outputs": [
    {
     "name": "stderr",
     "output_type": "stream",
     "text": [
      "C:\\Users\\Kennedy\\anaconda3\\lib\\site-packages\\sklearn\\utils\\validation.py:67: FutureWarning: Pass n_features_to_select=4 as keyword args. From version 0.25 passing these as positional arguments will result in an error\n",
      "  warnings.warn(\"Pass {} as keyword args. From version 0.25 \"\n"
     ]
    },
    {
     "data": {
      "text/plain": [
       "[('bedroom', True, 1),\n",
       " ('bathroom', False, 2),\n",
       " ('toilet', True, 1),\n",
       " ('parking', True, 1),\n",
       " ('district', False, 4),\n",
       " ('island', True, 1),\n",
       " ('industrial', False, 3)]"
      ]
     },
     "execution_count": 55,
     "metadata": {},
     "output_type": "execute_result"
    }
   ],
   "source": [
    "rfe_selector(min_max_data, LinearRegression())"
   ]
  },
  {
   "cell_type": "code",
   "execution_count": 56,
   "metadata": {},
   "outputs": [],
   "source": [
    "rfe_list = ['bedroom', 'toilet', 'parking', 'island']"
   ]
  },
  {
   "cell_type": "markdown",
   "metadata": {},
   "source": [
    "### Model Training with all features normalized by MinMaxScaler"
   ]
  },
  {
   "cell_type": "code",
   "execution_count": 57,
   "metadata": {},
   "outputs": [],
   "source": [
    "def model_fitter(df, model):\n",
    "    # separating the dataset into 'features' and 'targets'\n",
    "    x = df.drop(columns=['rent'])\n",
    "    y = df['rent']\n",
    "    \n",
    "    # splitting the 'features' and 'target' into train and test data\n",
    "    x_train, x_test, y_train, y_test = train_test_split(x, y, test_size = 0.2, random_state = 42)\n",
    "    \n",
    "    # initiate and fit the model on the train variables\n",
    "    model_init = model\n",
    "    model_fit = model.fit(x_train, y_train)\n",
    "    \n",
    "    # make predictions of and evaluate the model, based on some metrics\n",
    "    prediction = model.predict(x_test)\n",
    "    train_score = model.score(x_train,y_train)\n",
    "    test_score = model.score(x_test,y_test)\n",
    "    R2_score = round(r2_score(y_test, prediction), 2)\n",
    "    MAE = round(mean_absolute_error(y_test, prediction), 2)\n",
    "    RSS = round(np.sum(np.square(y_test - prediction)), 2)\n",
    "    rmse = round(np.sqrt(mean_squared_error(y_test, prediction)), 2)\n",
    "    \n",
    "    print(f'Training score on train data: {train_score}')\n",
    "    print(f'Training score on test data: {test_score}')\n",
    "    print(f'r2_score: {R2_score}')\n",
    "    print(f'MAE score: {MAE}')\n",
    "    print(f'RSS score: {RSS}')\n",
    "    print(f'RMSE score: {rmse}')"
   ]
  },
  {
   "cell_type": "code",
   "execution_count": 58,
   "metadata": {
    "scrolled": false
   },
   "outputs": [
    {
     "name": "stdout",
     "output_type": "stream",
     "text": [
      "Training score on train data: 0.4548387879684562\n",
      "Training score on test data: 0.4473949631084856\n",
      "r2_score: 0.45\n",
      "MAE score: 0.14\n",
      "RSS score: 114.0\n",
      "RMSE score: 0.19\n"
     ]
    }
   ],
   "source": [
    "# Linear Regression Model on MinMax scaled data\n",
    "\n",
    "model_fitter(min_max_data, LinearRegression())"
   ]
  },
  {
   "cell_type": "code",
   "execution_count": 59,
   "metadata": {
    "scrolled": true
   },
   "outputs": [
    {
     "name": "stdout",
     "output_type": "stream",
     "text": [
      "Training score on train data: 0.4546929414214571\n",
      "Training score on test data: 0.446633475785141\n",
      "r2_score: 0.45\n",
      "MAE score: 0.14\n",
      "RSS score: 114.16\n",
      "RMSE score: 0.19\n"
     ]
    }
   ],
   "source": [
    "# Ridge Regression Model on MinMax scaled data\n",
    "\n",
    "model_fitter(min_max_data, Ridge(alpha=1.0))"
   ]
  },
  {
   "cell_type": "code",
   "execution_count": 60,
   "metadata": {},
   "outputs": [
    {
     "name": "stdout",
     "output_type": "stream",
     "text": [
      "Training score on train data: 0.4264793105918888\n",
      "Training score on test data: 0.411007067460909\n",
      "r2_score: 0.41\n",
      "MAE score: 0.14\n",
      "RSS score: 121.51\n",
      "RMSE score: 0.2\n"
     ]
    }
   ],
   "source": [
    "# Lasso Regression Model on MinMax scaled data\n",
    "\n",
    "model_fitter(min_max_data, Lasso(alpha=0.001))"
   ]
  },
  {
   "cell_type": "code",
   "execution_count": 61,
   "metadata": {},
   "outputs": [
    {
     "name": "stdout",
     "output_type": "stream",
     "text": [
      "Training score on train data: 0.902923603160882\n",
      "Training score on test data: 0.9033086691365584\n",
      "r2_score: 0.9\n",
      "MAE score: 0.06\n",
      "RSS score: 19.95\n",
      "RMSE score: 0.08\n"
     ]
    }
   ],
   "source": [
    "# Gradient Boosting Regressor on MinMax scaled data\n",
    "\n",
    "gb_reg = ensemble.GradientBoostingRegressor(n_estimators=400, max_depth =5, min_samples_split=3, \n",
    "                                        learning_rate=0.003, loss='ls')\n",
    "\n",
    "model_fitter(min_max_data, gb_reg)"
   ]
  },
  {
   "cell_type": "code",
   "execution_count": 62,
   "metadata": {},
   "outputs": [
    {
     "name": "stdout",
     "output_type": "stream",
     "text": [
      "Training score on train data: 0.9938287234901825\n",
      "Training score on test data: 0.9957769292356696\n",
      "r2_score: 1.0\n",
      "MAE score: 0.0\n",
      "RSS score: 0.87\n",
      "RMSE score: 0.02\n"
     ]
    }
   ],
   "source": [
    "# Random Forest Regressor on MinMax scaled data\n",
    "\n",
    "randf_reg = ensemble.RandomForestRegressor(n_estimators=400, random_state=0)\n",
    "\n",
    "model_fitter(min_max_data, randf_reg)"
   ]
  },
  {
   "cell_type": "code",
   "execution_count": 63,
   "metadata": {},
   "outputs": [
    {
     "data": {
      "text/html": [
       "<div>\n",
       "<style scoped>\n",
       "    .dataframe tbody tr th:only-of-type {\n",
       "        vertical-align: middle;\n",
       "    }\n",
       "\n",
       "    .dataframe tbody tr th {\n",
       "        vertical-align: top;\n",
       "    }\n",
       "\n",
       "    .dataframe thead th {\n",
       "        text-align: right;\n",
       "    }\n",
       "</style>\n",
       "<table border=\"1\" class=\"dataframe\">\n",
       "  <thead>\n",
       "    <tr style=\"text-align: right;\">\n",
       "      <th></th>\n",
       "      <th>Model</th>\n",
       "      <th>Linear regression</th>\n",
       "      <th>Rigde regression</th>\n",
       "      <th>LASSO regression</th>\n",
       "      <th>Gradient boosting regressor</th>\n",
       "      <th>Random forest regressor</th>\n",
       "    </tr>\n",
       "  </thead>\n",
       "  <tbody>\n",
       "    <tr>\n",
       "      <th>0</th>\n",
       "      <td>r2score</td>\n",
       "      <td>0.46</td>\n",
       "      <td>0.46</td>\n",
       "      <td>0.43</td>\n",
       "      <td>0.91</td>\n",
       "      <td>0.99</td>\n",
       "    </tr>\n",
       "    <tr>\n",
       "      <th>1</th>\n",
       "      <td>mae</td>\n",
       "      <td>0.14</td>\n",
       "      <td>0.14</td>\n",
       "      <td>0.13</td>\n",
       "      <td>0.06</td>\n",
       "      <td>0.00</td>\n",
       "    </tr>\n",
       "    <tr>\n",
       "      <th>2</th>\n",
       "      <td>rss</td>\n",
       "      <td>104.01</td>\n",
       "      <td>104.04</td>\n",
       "      <td>109.93</td>\n",
       "      <td>18.16</td>\n",
       "      <td>1.09</td>\n",
       "    </tr>\n",
       "    <tr>\n",
       "      <th>3</th>\n",
       "      <td>rmse</td>\n",
       "      <td>0.19</td>\n",
       "      <td>0.19</td>\n",
       "      <td>0.19</td>\n",
       "      <td>0.08</td>\n",
       "      <td>0.02</td>\n",
       "    </tr>\n",
       "  </tbody>\n",
       "</table>\n",
       "</div>"
      ],
      "text/plain": [
       "     Model  Linear regression  Rigde regression  LASSO regression  \\\n",
       "0  r2score               0.46              0.46              0.43   \n",
       "1      mae               0.14              0.14              0.13   \n",
       "2      rss             104.01            104.04            109.93   \n",
       "3     rmse               0.19              0.19              0.19   \n",
       "\n",
       "   Gradient boosting regressor  Random forest regressor  \n",
       "0                         0.91                     0.99  \n",
       "1                         0.06                     0.00  \n",
       "2                        18.16                     1.09  \n",
       "3                         0.08                     0.02  "
      ]
     },
     "execution_count": 63,
     "metadata": {},
     "output_type": "execute_result"
    }
   ],
   "source": [
    "result1 = {'Model':['r2score', 'mae', 'rss', 'rmse'],\n",
    "            'Linear regression':[0.46, 0.14, 104.01, 0.19],\n",
    "           'Rigde regression':[0.46, 0.14, 104.04, 0.19],\n",
    "           'LASSO regression':[0.43, 0.13, 109.93, 0.19],\n",
    "           'Gradient boosting regressor':[0.91, 0.06, 18.16, 0.08],\n",
    "           'Random forest regressor':[0.99, 0.0, 1.09, 0.02]}\n",
    "\n",
    "result_df = pd.DataFrame(result1)\n",
    "\n",
    "result_df"
   ]
  },
  {
   "cell_type": "markdown",
   "metadata": {},
   "source": [
    "### Model Training with all features normalized by Standard Scaler"
   ]
  },
  {
   "cell_type": "code",
   "execution_count": 64,
   "metadata": {},
   "outputs": [
    {
     "name": "stdout",
     "output_type": "stream",
     "text": [
      "Training score on train data: 0.4548387879684562\n",
      "Training score on test data: 0.44739496310848537\n",
      "r2_score: 0.45\n",
      "MAE score: 0.56\n",
      "RSS score: 1735.71\n",
      "RMSE score: 0.76\n"
     ]
    }
   ],
   "source": [
    "# Linear Regression Model on Standard scaled data\n",
    "\n",
    "model_fitter(std_scaled_data, LinearRegression())"
   ]
  },
  {
   "cell_type": "code",
   "execution_count": 65,
   "metadata": {},
   "outputs": [
    {
     "name": "stdout",
     "output_type": "stream",
     "text": [
      "Training score on train data: 0.45483775249362624\n",
      "Training score on test data: 0.44734069208202554\n",
      "r2_score: 0.45\n",
      "MAE score: 0.55\n",
      "RSS score: 1735.88\n",
      "RMSE score: 0.76\n"
     ]
    }
   ],
   "source": [
    "# Ridge Regression Model on Standard scaled data\n",
    "\n",
    "model_fitter(std_scaled_data, Ridge(alpha=1.0))"
   ]
  },
  {
   "cell_type": "code",
   "execution_count": 66,
   "metadata": {},
   "outputs": [
    {
     "name": "stdout",
     "output_type": "stream",
     "text": [
      "Training score on train data: 0.4546731167359641\n",
      "Training score on test data: 0.4464538857187963\n",
      "r2_score: 0.45\n",
      "MAE score: 0.55\n",
      "RSS score: 1738.66\n",
      "RMSE score: 0.76\n"
     ]
    }
   ],
   "source": [
    "# Lasso Regression Model on Standard scaled data\n",
    "\n",
    "model_fitter(std_scaled_data, Lasso(alpha=0.001))"
   ]
  },
  {
   "cell_type": "code",
   "execution_count": 67,
   "metadata": {},
   "outputs": [
    {
     "name": "stdout",
     "output_type": "stream",
     "text": [
      "Training score on train data: 0.902923603160882\n",
      "Training score on test data: 0.9033086691365584\n",
      "r2_score: 0.9\n",
      "MAE score: 0.23\n",
      "RSS score: 303.7\n",
      "RMSE score: 0.32\n"
     ]
    }
   ],
   "source": [
    "# Gradient Boosting Regressor on Standard scaled data\n",
    "\n",
    "gb_reg = ensemble.GradientBoostingRegressor(n_estimators=400, max_depth =5, min_samples_split=3, \n",
    "                                        learning_rate=0.003, loss='ls')\n",
    "\n",
    "model_fitter(std_scaled_data, gb_reg)"
   ]
  },
  {
   "cell_type": "code",
   "execution_count": 68,
   "metadata": {},
   "outputs": [
    {
     "name": "stdout",
     "output_type": "stream",
     "text": [
      "Training score on train data: 0.9938287234901825\n",
      "Training score on test data: 0.9957769292356696\n",
      "r2_score: 1.0\n",
      "MAE score: 0.01\n",
      "RSS score: 13.26\n",
      "RMSE score: 0.07\n"
     ]
    }
   ],
   "source": [
    "# Random Forest Regressor on Standard scaled data\n",
    "\n",
    "randf_reg = ensemble.RandomForestRegressor(n_estimators=400, random_state=0)\n",
    "\n",
    "model_fitter(std_scaled_data, randf_reg)"
   ]
  },
  {
   "cell_type": "code",
   "execution_count": 69,
   "metadata": {},
   "outputs": [
    {
     "data": {
      "text/html": [
       "<div>\n",
       "<style scoped>\n",
       "    .dataframe tbody tr th:only-of-type {\n",
       "        vertical-align: middle;\n",
       "    }\n",
       "\n",
       "    .dataframe tbody tr th {\n",
       "        vertical-align: top;\n",
       "    }\n",
       "\n",
       "    .dataframe thead th {\n",
       "        text-align: right;\n",
       "    }\n",
       "</style>\n",
       "<table border=\"1\" class=\"dataframe\">\n",
       "  <thead>\n",
       "    <tr style=\"text-align: right;\">\n",
       "      <th></th>\n",
       "      <th>Model</th>\n",
       "      <th>Linear regression</th>\n",
       "      <th>Rigde regression</th>\n",
       "      <th>LASSO regression</th>\n",
       "      <th>Gradient boosting regressor</th>\n",
       "      <th>Random forest regressor</th>\n",
       "    </tr>\n",
       "  </thead>\n",
       "  <tbody>\n",
       "    <tr>\n",
       "      <th>0</th>\n",
       "      <td>r2score</td>\n",
       "      <td>0.46</td>\n",
       "      <td>0.46</td>\n",
       "      <td>0.46</td>\n",
       "      <td>0.91</td>\n",
       "      <td>0.99</td>\n",
       "    </tr>\n",
       "    <tr>\n",
       "      <th>1</th>\n",
       "      <td>mae</td>\n",
       "      <td>0.54</td>\n",
       "      <td>0.54</td>\n",
       "      <td>0.54</td>\n",
       "      <td>0.22</td>\n",
       "      <td>0.01</td>\n",
       "    </tr>\n",
       "    <tr>\n",
       "      <th>2</th>\n",
       "      <td>rss</td>\n",
       "      <td>1583.58</td>\n",
       "      <td>1583.58</td>\n",
       "      <td>1584.25</td>\n",
       "      <td>276.50</td>\n",
       "      <td>16.63</td>\n",
       "    </tr>\n",
       "    <tr>\n",
       "      <th>3</th>\n",
       "      <td>rmse</td>\n",
       "      <td>0.73</td>\n",
       "      <td>0.73</td>\n",
       "      <td>0.73</td>\n",
       "      <td>0.30</td>\n",
       "      <td>0.07</td>\n",
       "    </tr>\n",
       "  </tbody>\n",
       "</table>\n",
       "</div>"
      ],
      "text/plain": [
       "     Model  Linear regression  Rigde regression  LASSO regression  \\\n",
       "0  r2score               0.46              0.46              0.46   \n",
       "1      mae               0.54              0.54              0.54   \n",
       "2      rss            1583.58           1583.58           1584.25   \n",
       "3     rmse               0.73              0.73              0.73   \n",
       "\n",
       "   Gradient boosting regressor  Random forest regressor  \n",
       "0                         0.91                     0.99  \n",
       "1                         0.22                     0.01  \n",
       "2                       276.50                    16.63  \n",
       "3                         0.30                     0.07  "
      ]
     },
     "execution_count": 69,
     "metadata": {},
     "output_type": "execute_result"
    }
   ],
   "source": [
    "result2 = {'Model':['r2score', 'mae', 'rss', 'rmse'],\n",
    "            'Linear regression':[0.46, 0.54, 1583.58, 0.73],\n",
    "           'Rigde regression':[0.46, 0.54, 1583.58, 0.73],\n",
    "           'LASSO regression':[0.46, 0.54, 1584.25, 0.73],\n",
    "           'Gradient boosting regressor':[0.91, 0.22, 276.5, 0.3],\n",
    "           'Random forest regressor':[0.99, 0.01, 16.63, 0.07]}\n",
    "\n",
    "result2_df = pd.DataFrame(result2)\n",
    "\n",
    "result2_df"
   ]
  },
  {
   "cell_type": "markdown",
   "metadata": {},
   "source": [
    "### Model Training with selected features"
   ]
  },
  {
   "cell_type": "code",
   "execution_count": 70,
   "metadata": {},
   "outputs": [
    {
     "data": {
      "text/plain": [
       "['bedroom', 'toilet', 'parking', 'island']"
      ]
     },
     "execution_count": 70,
     "metadata": {},
     "output_type": "execute_result"
    }
   ],
   "source": [
    "rfe_list"
   ]
  },
  {
   "cell_type": "code",
   "execution_count": 71,
   "metadata": {},
   "outputs": [],
   "source": [
    "selected_data = min_max_data[['rent'] + rfe_list]"
   ]
  },
  {
   "cell_type": "code",
   "execution_count": 72,
   "metadata": {},
   "outputs": [
    {
     "name": "stdout",
     "output_type": "stream",
     "text": [
      "Training score on train data: 0.4442059237775384\n",
      "Training score on test data: 0.4329236695419447\n",
      "r2_score: 0.43\n",
      "MAE score: 0.15\n",
      "RSS score: 116.99\n",
      "RMSE score: 0.2\n"
     ]
    }
   ],
   "source": [
    "# Linear Regression Model on selected data\n",
    "\n",
    "model_fitter(selected_data, LinearRegression())"
   ]
  },
  {
   "cell_type": "code",
   "execution_count": 73,
   "metadata": {},
   "outputs": [
    {
     "name": "stdout",
     "output_type": "stream",
     "text": [
      "Training score on train data: 0.4440851526746977\n",
      "Training score on test data: 0.4323881279639735\n",
      "r2_score: 0.43\n",
      "MAE score: 0.14\n",
      "RSS score: 117.1\n",
      "RMSE score: 0.2\n"
     ]
    }
   ],
   "source": [
    "# Ridge Regression Model on selected data\n",
    "\n",
    "model_fitter(selected_data, Ridge(alpha=1.0))"
   ]
  },
  {
   "cell_type": "code",
   "execution_count": 74,
   "metadata": {},
   "outputs": [
    {
     "name": "stdout",
     "output_type": "stream",
     "text": [
      "Training score on train data: 0.42075901104254276\n",
      "Training score on test data: 0.4049592901813891\n",
      "r2_score: 0.4\n",
      "MAE score: 0.14\n",
      "RSS score: 122.76\n",
      "RMSE score: 0.2\n"
     ]
    }
   ],
   "source": [
    "# Lasso Regression Model on selected data\n",
    "\n",
    "model_fitter(selected_data, Lasso(alpha=0.001))"
   ]
  },
  {
   "cell_type": "code",
   "execution_count": 75,
   "metadata": {},
   "outputs": [
    {
     "name": "stdout",
     "output_type": "stream",
     "text": [
      "Training score on train data: 0.5469012609194837\n",
      "Training score on test data: 0.5446743303935098\n",
      "r2_score: 0.54\n",
      "MAE score: 0.11\n",
      "RSS score: 93.93\n",
      "RMSE score: 0.18\n"
     ]
    }
   ],
   "source": [
    "# Gradient Boosting Regressor on selected data\n",
    "\n",
    "gb_reg = ensemble.GradientBoostingRegressor(n_estimators=400, max_depth =5, min_samples_split=3, \n",
    "                                        learning_rate=0.003, loss='ls')\n",
    "\n",
    "model_fitter(selected_data, gb_reg)"
   ]
  },
  {
   "cell_type": "code",
   "execution_count": 76,
   "metadata": {
    "scrolled": true
   },
   "outputs": [
    {
     "name": "stdout",
     "output_type": "stream",
     "text": [
      "Training score on train data: 0.6012477481469264\n",
      "Training score on test data: 0.6086968792135685\n",
      "r2_score: 0.61\n",
      "MAE score: 0.09\n",
      "RSS score: 80.73\n",
      "RMSE score: 0.16\n"
     ]
    }
   ],
   "source": [
    "# Random Forest Regressor on selected data\n",
    "\n",
    "randf_reg = ensemble.RandomForestRegressor(n_estimators=500, random_state=0)\n",
    "\n",
    "model_fitter(selected_data, randf_reg)"
   ]
  },
  {
   "cell_type": "code",
   "execution_count": 77,
   "metadata": {},
   "outputs": [
    {
     "data": {
      "text/html": [
       "<div>\n",
       "<style scoped>\n",
       "    .dataframe tbody tr th:only-of-type {\n",
       "        vertical-align: middle;\n",
       "    }\n",
       "\n",
       "    .dataframe tbody tr th {\n",
       "        vertical-align: top;\n",
       "    }\n",
       "\n",
       "    .dataframe thead th {\n",
       "        text-align: right;\n",
       "    }\n",
       "</style>\n",
       "<table border=\"1\" class=\"dataframe\">\n",
       "  <thead>\n",
       "    <tr style=\"text-align: right;\">\n",
       "      <th></th>\n",
       "      <th>Model</th>\n",
       "      <th>Linear regression</th>\n",
       "      <th>Rigde regression</th>\n",
       "      <th>LASSO regression</th>\n",
       "      <th>Gradient boosting regressor</th>\n",
       "      <th>Random forest regressor</th>\n",
       "    </tr>\n",
       "  </thead>\n",
       "  <tbody>\n",
       "    <tr>\n",
       "      <th>0</th>\n",
       "      <td>r2score</td>\n",
       "      <td>0.45</td>\n",
       "      <td>0.45</td>\n",
       "      <td>0.42</td>\n",
       "      <td>0.55</td>\n",
       "      <td>0.60</td>\n",
       "    </tr>\n",
       "    <tr>\n",
       "      <th>1</th>\n",
       "      <td>mae</td>\n",
       "      <td>0.14</td>\n",
       "      <td>0.14</td>\n",
       "      <td>0.13</td>\n",
       "      <td>0.11</td>\n",
       "      <td>0.09</td>\n",
       "    </tr>\n",
       "    <tr>\n",
       "      <th>2</th>\n",
       "      <td>rss</td>\n",
       "      <td>106.68</td>\n",
       "      <td>106.69</td>\n",
       "      <td>111.11</td>\n",
       "      <td>86.29</td>\n",
       "      <td>76.60</td>\n",
       "    </tr>\n",
       "    <tr>\n",
       "      <th>3</th>\n",
       "      <td>rmse</td>\n",
       "      <td>0.19</td>\n",
       "      <td>0.19</td>\n",
       "      <td>86.29</td>\n",
       "      <td>0.17</td>\n",
       "      <td>0.16</td>\n",
       "    </tr>\n",
       "  </tbody>\n",
       "</table>\n",
       "</div>"
      ],
      "text/plain": [
       "     Model  Linear regression  Rigde regression  LASSO regression  \\\n",
       "0  r2score               0.45              0.45              0.42   \n",
       "1      mae               0.14              0.14              0.13   \n",
       "2      rss             106.68            106.69            111.11   \n",
       "3     rmse               0.19              0.19             86.29   \n",
       "\n",
       "   Gradient boosting regressor  Random forest regressor  \n",
       "0                         0.55                     0.60  \n",
       "1                         0.11                     0.09  \n",
       "2                        86.29                    76.60  \n",
       "3                         0.17                     0.16  "
      ]
     },
     "execution_count": 77,
     "metadata": {},
     "output_type": "execute_result"
    }
   ],
   "source": [
    "result3 = {'Model':['r2score', 'mae', 'rss', 'rmse'],\n",
    "            'Linear regression':[0.45, 0.14, 106.68, 0.19],\n",
    "           'Rigde regression':[0.45, 0.14, 106.69, 0.19],\n",
    "           'LASSO regression':[0.42, 0.13, 111.11, 86.29],\n",
    "           'Gradient boosting regressor':[0.55, 0.11, 86.29, 0.17],\n",
    "           'Random forest regressor':[0.6, 0.09, 76.6, 0.16]}\n",
    "\n",
    "result3_df = pd.DataFrame(result3)\n",
    "\n",
    "result3_df"
   ]
  },
  {
   "cell_type": "code",
   "execution_count": 78,
   "metadata": {},
   "outputs": [],
   "source": [
    "def model_summ(df):\n",
    "    \"\"\"This fits a model to a dataset\"\"\"\n",
    "    \n",
    "    # separating the dataset into 'features' and 'targets'\n",
    "    x = df.drop(columns=['rent'])\n",
    "    y = df['rent']\n",
    "    \n",
    "    # splitting the 'features' and 'target' into train and test data\n",
    "    x_train, x_test, y_train, y_test = train_test_split(x, y, test_size = 0.2, random_state = 42)\n",
    "    \n",
    "    gb_reg = ensemble.GradientBoostingRegressor(n_estimators=400, max_depth =5, min_samples_split=3, \n",
    "                                        learning_rate=0.003, loss='ls')\n",
    "\n",
    "    models = []\n",
    "    models.append(('LR', LinearRegression()))\n",
    "    models.append(('Ridge', Ridge(alpha=0.4)))\n",
    "    models.append(('Lasso', Lasso(alpha=0.001)))\n",
    "    models.append(('RFR', RandomForestRegressor(n_estimators=400, random_state=0)))\n",
    "    models.append(('GBR', gb_reg))\n",
    "\n",
    "    results = []\n",
    "    names = []\n",
    "\n",
    "    scoring = 'r2'\n",
    "\n",
    "    for name, model in models:\n",
    "        kfold = model_selection.KFold(n_splits=10, random_state=42, shuffle = True)\n",
    "        cv_results = model_selection.cross_val_score(model, x, y, cv=kfold, scoring=scoring)\n",
    "        names.append(name)\n",
    "    \n",
    "        print(\"%s: %f (%f)\" % (name, cv_results.mean(), cv_results.std()))"
   ]
  },
  {
   "cell_type": "code",
   "execution_count": 79,
   "metadata": {},
   "outputs": [
    {
     "name": "stdout",
     "output_type": "stream",
     "text": [
      "LR: 0.452513 (0.010674)\n",
      "Ridge: 0.452510 (0.010800)\n",
      "Lasso: 0.423251 (0.015025)\n",
      "RFR: 0.994118 (0.001540)\n",
      "GBR: 0.903205 (0.001455)\n"
     ]
    }
   ],
   "source": [
    "model_summ(min_max_data)"
   ]
  },
  {
   "cell_type": "code",
   "execution_count": 80,
   "metadata": {},
   "outputs": [
    {
     "name": "stdout",
     "output_type": "stream",
     "text": [
      "LR: 0.452513 (0.010674)\n",
      "Ridge: 0.452514 (0.010684)\n",
      "Lasso: 0.452386 (0.010950)\n",
      "RFR: 0.994118 (0.001540)\n",
      "GBR: 0.903205 (0.001455)\n"
     ]
    }
   ],
   "source": [
    "model_summ(std_scaled_data)"
   ]
  },
  {
   "cell_type": "markdown",
   "metadata": {},
   "source": [
    "### Model Improvement"
   ]
  },
  {
   "cell_type": "code",
   "execution_count": 81,
   "metadata": {},
   "outputs": [
    {
     "data": {
      "text/plain": [
       "1.0    10918\n",
       "0.0     4093\n",
       "Name: island, dtype: int64"
      ]
     },
     "execution_count": 81,
     "metadata": {},
     "output_type": "execute_result"
    }
   ],
   "source": [
    "# Checking for imbalance in the categorical features\n",
    "\n",
    "min_max_data['island'].value_counts()"
   ]
  },
  {
   "cell_type": "code",
   "execution_count": 82,
   "metadata": {},
   "outputs": [
    {
     "data": {
      "text/plain": [
       "0.0    12518\n",
       "1.0     2493\n",
       "Name: industrial, dtype: int64"
      ]
     },
     "execution_count": 82,
     "metadata": {},
     "output_type": "execute_result"
    }
   ],
   "source": [
    "min_max_data['industrial'].value_counts()"
   ]
  },
  {
   "cell_type": "markdown",
   "metadata": {},
   "source": [
    "From the above, it is obvious that the dataset is imbalanced. Undersampling will be used to handle the situation."
   ]
  },
  {
   "cell_type": "code",
   "execution_count": 83,
   "metadata": {},
   "outputs": [],
   "source": [
    "def sampler(df, col, n):\n",
    "    df1 = df[df[col] == 1].sample(n)\n",
    "    df2 = df[df[col] == 0]\n",
    "    length = df1.shape[0] + df2.shape[0]\n",
    "    df_final = pd.concat([df1, df2], axis=0).sample(length)\n",
    "    \n",
    "    return df_final"
   ]
  },
  {
   "cell_type": "code",
   "execution_count": 84,
   "metadata": {},
   "outputs": [
    {
     "data": {
      "text/html": [
       "<div>\n",
       "<style scoped>\n",
       "    .dataframe tbody tr th:only-of-type {\n",
       "        vertical-align: middle;\n",
       "    }\n",
       "\n",
       "    .dataframe tbody tr th {\n",
       "        vertical-align: top;\n",
       "    }\n",
       "\n",
       "    .dataframe thead th {\n",
       "        text-align: right;\n",
       "    }\n",
       "</style>\n",
       "<table border=\"1\" class=\"dataframe\">\n",
       "  <thead>\n",
       "    <tr style=\"text-align: right;\">\n",
       "      <th></th>\n",
       "      <th>rent</th>\n",
       "      <th>bedroom</th>\n",
       "      <th>bathroom</th>\n",
       "      <th>toilet</th>\n",
       "      <th>parking</th>\n",
       "      <th>district</th>\n",
       "      <th>island</th>\n",
       "      <th>industrial</th>\n",
       "    </tr>\n",
       "  </thead>\n",
       "  <tbody>\n",
       "    <tr>\n",
       "      <th>6281</th>\n",
       "      <td>0.031646</td>\n",
       "      <td>0.25</td>\n",
       "      <td>0.25</td>\n",
       "      <td>0.2</td>\n",
       "      <td>0.000000</td>\n",
       "      <td>0.777778</td>\n",
       "      <td>0.0</td>\n",
       "      <td>1.0</td>\n",
       "    </tr>\n",
       "    <tr>\n",
       "      <th>3209</th>\n",
       "      <td>0.329114</td>\n",
       "      <td>0.75</td>\n",
       "      <td>0.75</td>\n",
       "      <td>0.8</td>\n",
       "      <td>0.181818</td>\n",
       "      <td>0.555556</td>\n",
       "      <td>1.0</td>\n",
       "      <td>0.0</td>\n",
       "    </tr>\n",
       "    <tr>\n",
       "      <th>5793</th>\n",
       "      <td>0.329114</td>\n",
       "      <td>0.75</td>\n",
       "      <td>0.75</td>\n",
       "      <td>0.8</td>\n",
       "      <td>0.181818</td>\n",
       "      <td>0.555556</td>\n",
       "      <td>1.0</td>\n",
       "      <td>0.0</td>\n",
       "    </tr>\n",
       "    <tr>\n",
       "      <th>11431</th>\n",
       "      <td>0.056962</td>\n",
       "      <td>0.75</td>\n",
       "      <td>0.75</td>\n",
       "      <td>0.8</td>\n",
       "      <td>0.090909</td>\n",
       "      <td>0.444444</td>\n",
       "      <td>0.0</td>\n",
       "      <td>1.0</td>\n",
       "    </tr>\n",
       "    <tr>\n",
       "      <th>11253</th>\n",
       "      <td>0.056962</td>\n",
       "      <td>0.75</td>\n",
       "      <td>0.75</td>\n",
       "      <td>0.8</td>\n",
       "      <td>0.090909</td>\n",
       "      <td>0.444444</td>\n",
       "      <td>0.0</td>\n",
       "      <td>1.0</td>\n",
       "    </tr>\n",
       "  </tbody>\n",
       "</table>\n",
       "</div>"
      ],
      "text/plain": [
       "           rent  bedroom  bathroom  toilet   parking  district  island  \\\n",
       "6281   0.031646     0.25      0.25     0.2  0.000000  0.777778     0.0   \n",
       "3209   0.329114     0.75      0.75     0.8  0.181818  0.555556     1.0   \n",
       "5793   0.329114     0.75      0.75     0.8  0.181818  0.555556     1.0   \n",
       "11431  0.056962     0.75      0.75     0.8  0.090909  0.444444     0.0   \n",
       "11253  0.056962     0.75      0.75     0.8  0.090909  0.444444     0.0   \n",
       "\n",
       "       industrial  \n",
       "6281          1.0  \n",
       "3209          0.0  \n",
       "5793          0.0  \n",
       "11431         1.0  \n",
       "11253         1.0  "
      ]
     },
     "execution_count": 84,
     "metadata": {},
     "output_type": "execute_result"
    }
   ],
   "source": [
    "sampler(min_max_data, 'island', 5000).head()"
   ]
  },
  {
   "cell_type": "code",
   "execution_count": 85,
   "metadata": {},
   "outputs": [],
   "source": [
    "sampled_data = sampler(min_max_data, 'island', 4100)"
   ]
  },
  {
   "cell_type": "code",
   "execution_count": 86,
   "metadata": {},
   "outputs": [
    {
     "data": {
      "text/plain": [
       "1.0    4100\n",
       "0.0    4093\n",
       "Name: island, dtype: int64"
      ]
     },
     "execution_count": 86,
     "metadata": {},
     "output_type": "execute_result"
    }
   ],
   "source": [
    "sampled_data['island'].value_counts()"
   ]
  },
  {
   "cell_type": "code",
   "execution_count": 87,
   "metadata": {
    "scrolled": true
   },
   "outputs": [
    {
     "name": "stdout",
     "output_type": "stream",
     "text": [
      "Training score on train data: 0.5109203310274822\n",
      "Training score on test data: 0.5147011555117313\n",
      "r2_score: 0.51\n",
      "MAE score: 0.11\n",
      "RSS score: 44.73\n",
      "RMSE score: 0.17\n"
     ]
    }
   ],
   "source": [
    "model_fitter(sampled_data, LinearRegression()) "
   ]
  },
  {
   "cell_type": "code",
   "execution_count": 88,
   "metadata": {},
   "outputs": [
    {
     "name": "stdout",
     "output_type": "stream",
     "text": [
      "Training score on train data: 0.5108232329693401\n",
      "Training score on test data: 0.5148135776326319\n",
      "r2_score: 0.51\n",
      "MAE score: 0.11\n",
      "RSS score: 44.72\n",
      "RMSE score: 0.17\n"
     ]
    }
   ],
   "source": [
    "model_fitter(sampled_data, Ridge(alpha=1.0))"
   ]
  },
  {
   "cell_type": "code",
   "execution_count": 89,
   "metadata": {
    "scrolled": true
   },
   "outputs": [
    {
     "name": "stdout",
     "output_type": "stream",
     "text": [
      "Training score on train data: 0.5029745225281945\n",
      "Training score on test data: 0.5085702332771216\n",
      "r2_score: 0.51\n",
      "MAE score: 0.11\n",
      "RSS score: 45.3\n",
      "RMSE score: 0.17\n"
     ]
    }
   ],
   "source": [
    "model_fitter(sampled_data, Lasso(alpha=0.001))"
   ]
  },
  {
   "cell_type": "code",
   "execution_count": 90,
   "metadata": {},
   "outputs": [
    {
     "name": "stdout",
     "output_type": "stream",
     "text": [
      "Training score on train data: 0.9038544449902429\n",
      "Training score on test data: 0.9039042154492877\n",
      "r2_score: 0.9\n",
      "MAE score: 0.06\n",
      "RSS score: 8.86\n",
      "RMSE score: 0.07\n"
     ]
    }
   ],
   "source": [
    "gb_reg = ensemble.GradientBoostingRegressor(n_estimators=400, max_depth =5, min_samples_split=3, \n",
    "                                        learning_rate=0.003, loss='ls')\n",
    "\n",
    "model_fitter(sampled_data, gb_reg)"
   ]
  },
  {
   "cell_type": "code",
   "execution_count": 91,
   "metadata": {
    "scrolled": true
   },
   "outputs": [
    {
     "name": "stdout",
     "output_type": "stream",
     "text": [
      "Training score on train data: 0.9950230550161138\n",
      "Training score on test data: 0.9963011807468045\n",
      "r2_score: 1.0\n",
      "MAE score: 0.0\n",
      "RSS score: 0.34\n",
      "RMSE score: 0.01\n"
     ]
    }
   ],
   "source": [
    "randf_reg = ensemble.RandomForestRegressor(n_estimators=500, random_state=0)\n",
    "\n",
    "model_fitter(sampled_data, randf_reg)"
   ]
  },
  {
   "cell_type": "code",
   "execution_count": 92,
   "metadata": {},
   "outputs": [
    {
     "data": {
      "text/html": [
       "<div>\n",
       "<style scoped>\n",
       "    .dataframe tbody tr th:only-of-type {\n",
       "        vertical-align: middle;\n",
       "    }\n",
       "\n",
       "    .dataframe tbody tr th {\n",
       "        vertical-align: top;\n",
       "    }\n",
       "\n",
       "    .dataframe thead th {\n",
       "        text-align: right;\n",
       "    }\n",
       "</style>\n",
       "<table border=\"1\" class=\"dataframe\">\n",
       "  <thead>\n",
       "    <tr style=\"text-align: right;\">\n",
       "      <th></th>\n",
       "      <th>Model</th>\n",
       "      <th>Linear regression</th>\n",
       "      <th>Rigde regression</th>\n",
       "      <th>LASSO regression</th>\n",
       "      <th>Gradient boosting regressor</th>\n",
       "      <th>Random forest regressor</th>\n",
       "    </tr>\n",
       "  </thead>\n",
       "  <tbody>\n",
       "    <tr>\n",
       "      <th>0</th>\n",
       "      <td>r2score</td>\n",
       "      <td>0.51</td>\n",
       "      <td>0.51</td>\n",
       "      <td>0.51</td>\n",
       "      <td>0.90</td>\n",
       "      <td>1.00</td>\n",
       "    </tr>\n",
       "    <tr>\n",
       "      <th>1</th>\n",
       "      <td>mae</td>\n",
       "      <td>0.11</td>\n",
       "      <td>0.11</td>\n",
       "      <td>0.11</td>\n",
       "      <td>0.06</td>\n",
       "      <td>0.00</td>\n",
       "    </tr>\n",
       "    <tr>\n",
       "      <th>2</th>\n",
       "      <td>rss</td>\n",
       "      <td>44.16</td>\n",
       "      <td>44.16</td>\n",
       "      <td>44.80</td>\n",
       "      <td>8.87</td>\n",
       "      <td>0.42</td>\n",
       "    </tr>\n",
       "    <tr>\n",
       "      <th>3</th>\n",
       "      <td>rmse</td>\n",
       "      <td>0.16</td>\n",
       "      <td>0.16</td>\n",
       "      <td>0.17</td>\n",
       "      <td>0.07</td>\n",
       "      <td>0.02</td>\n",
       "    </tr>\n",
       "  </tbody>\n",
       "</table>\n",
       "</div>"
      ],
      "text/plain": [
       "     Model  Linear regression  Rigde regression  LASSO regression  \\\n",
       "0  r2score               0.51              0.51              0.51   \n",
       "1      mae               0.11              0.11              0.11   \n",
       "2      rss              44.16             44.16             44.80   \n",
       "3     rmse               0.16              0.16              0.17   \n",
       "\n",
       "   Gradient boosting regressor  Random forest regressor  \n",
       "0                         0.90                     1.00  \n",
       "1                         0.06                     0.00  \n",
       "2                         8.87                     0.42  \n",
       "3                         0.07                     0.02  "
      ]
     },
     "execution_count": 92,
     "metadata": {},
     "output_type": "execute_result"
    }
   ],
   "source": [
    "result4 = {'Model':['r2score', 'mae', 'rss', 'rmse'],\n",
    "            'Linear regression':[0.51, 0.11, 44.16, 0.16],\n",
    "           'Rigde regression':[0.51, 0.11, 44.16, 0.16],\n",
    "           'LASSO regression':[0.51, 0.11, 44.8, 0.17],\n",
    "           'Gradient boosting regressor':[0.9, 0.06, 8.87, 0.07],\n",
    "           'Random forest regressor':[1.0, 0.0, 0.42, 0.02]}\n",
    "\n",
    "result4_df = pd.DataFrame(result4)\n",
    "\n",
    "result4_df"
   ]
  },
  {
   "cell_type": "markdown",
   "metadata": {},
   "source": [
    "From the above, the GradientBoosting Regressor on the sampled data performed better than others. It will be selected for the task."
   ]
  },
  {
   "cell_type": "code",
   "execution_count": 93,
   "metadata": {},
   "outputs": [
    {
     "data": {
      "text/plain": [
       "array([0.43196138, 0.12212342, 0.31068403, ..., 0.09113962, 0.30141931,\n",
       "       0.30141931])"
      ]
     },
     "execution_count": 93,
     "metadata": {},
     "output_type": "execute_result"
    }
   ],
   "source": [
    "x = sampled_data.drop(columns=['rent'])\n",
    "y = sampled_data['rent']\n",
    "    \n",
    "# splitting the 'features' and 'target' into train and test data\n",
    "x_train, x_test, y_train, y_test = train_test_split(x, y, test_size = 0.2, random_state = 42)\n",
    "    \n",
    "# initiate and fit the model on the train variables\n",
    "model = ensemble.GradientBoostingRegressor(n_estimators=400, max_depth =5, min_samples_split=3, \n",
    "                                        learning_rate=0.003, loss='ls')\n",
    "model_fit = model.fit(x_train, y_train)\n",
    "    \n",
    "# make predictions of and evaluate the model, based on some metrics\n",
    "prediction = model.predict(x_test)\n",
    "\n",
    "prediction"
   ]
  },
  {
   "cell_type": "code",
   "execution_count": 94,
   "metadata": {},
   "outputs": [],
   "source": [
    "pred_df = pd.DataFrame(prediction, columns=['predicted rent'])\n",
    "\n",
    "\n",
    "y_test_df = y_test.to_frame().reset_index(drop=True)\n",
    "\n",
    "pred_df = pd.concat([y_test_df, pred_df], axis=1)"
   ]
  },
  {
   "cell_type": "code",
   "execution_count": 95,
   "metadata": {
    "scrolled": true
   },
   "outputs": [
    {
     "data": {
      "text/html": [
       "<div>\n",
       "<style scoped>\n",
       "    .dataframe tbody tr th:only-of-type {\n",
       "        vertical-align: middle;\n",
       "    }\n",
       "\n",
       "    .dataframe tbody tr th {\n",
       "        vertical-align: top;\n",
       "    }\n",
       "\n",
       "    .dataframe thead th {\n",
       "        text-align: right;\n",
       "    }\n",
       "</style>\n",
       "<table border=\"1\" class=\"dataframe\">\n",
       "  <thead>\n",
       "    <tr style=\"text-align: right;\">\n",
       "      <th></th>\n",
       "      <th>rent</th>\n",
       "      <th>predicted rent</th>\n",
       "    </tr>\n",
       "  </thead>\n",
       "  <tbody>\n",
       "    <tr>\n",
       "      <th>0</th>\n",
       "      <td>0.518987</td>\n",
       "      <td>0.431961</td>\n",
       "    </tr>\n",
       "    <tr>\n",
       "      <th>1</th>\n",
       "      <td>0.075949</td>\n",
       "      <td>0.122123</td>\n",
       "    </tr>\n",
       "    <tr>\n",
       "      <th>2</th>\n",
       "      <td>0.360759</td>\n",
       "      <td>0.310684</td>\n",
       "    </tr>\n",
       "    <tr>\n",
       "      <th>3</th>\n",
       "      <td>0.018987</td>\n",
       "      <td>0.082287</td>\n",
       "    </tr>\n",
       "    <tr>\n",
       "      <th>4</th>\n",
       "      <td>0.075949</td>\n",
       "      <td>0.122123</td>\n",
       "    </tr>\n",
       "    <tr>\n",
       "      <th>...</th>\n",
       "      <td>...</td>\n",
       "      <td>...</td>\n",
       "    </tr>\n",
       "    <tr>\n",
       "      <th>1634</th>\n",
       "      <td>0.075949</td>\n",
       "      <td>0.122123</td>\n",
       "    </tr>\n",
       "    <tr>\n",
       "      <th>1635</th>\n",
       "      <td>0.075949</td>\n",
       "      <td>0.122123</td>\n",
       "    </tr>\n",
       "    <tr>\n",
       "      <th>1636</th>\n",
       "      <td>0.031646</td>\n",
       "      <td>0.091140</td>\n",
       "    </tr>\n",
       "    <tr>\n",
       "      <th>1637</th>\n",
       "      <td>0.329114</td>\n",
       "      <td>0.301419</td>\n",
       "    </tr>\n",
       "    <tr>\n",
       "      <th>1638</th>\n",
       "      <td>0.329114</td>\n",
       "      <td>0.301419</td>\n",
       "    </tr>\n",
       "  </tbody>\n",
       "</table>\n",
       "<p>1639 rows × 2 columns</p>\n",
       "</div>"
      ],
      "text/plain": [
       "          rent  predicted rent\n",
       "0     0.518987        0.431961\n",
       "1     0.075949        0.122123\n",
       "2     0.360759        0.310684\n",
       "3     0.018987        0.082287\n",
       "4     0.075949        0.122123\n",
       "...        ...             ...\n",
       "1634  0.075949        0.122123\n",
       "1635  0.075949        0.122123\n",
       "1636  0.031646        0.091140\n",
       "1637  0.329114        0.301419\n",
       "1638  0.329114        0.301419\n",
       "\n",
       "[1639 rows x 2 columns]"
      ]
     },
     "execution_count": 95,
     "metadata": {},
     "output_type": "execute_result"
    }
   ],
   "source": [
    "pred_df"
   ]
  }
 ],
 "metadata": {
  "kernelspec": {
   "display_name": "Python 3",
   "language": "python",
   "name": "python3"
  },
  "language_info": {
   "codemirror_mode": {
    "name": "ipython",
    "version": 3
   },
   "file_extension": ".py",
   "mimetype": "text/x-python",
   "name": "python",
   "nbconvert_exporter": "python",
   "pygments_lexer": "ipython3",
   "version": "3.8.5"
  }
 },
 "nbformat": 4,
 "nbformat_minor": 4
}
